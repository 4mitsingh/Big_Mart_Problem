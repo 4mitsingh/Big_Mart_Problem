{
 "cells": [
  {
   "cell_type": "code",
   "execution_count": 199,
   "metadata": {},
   "outputs": [],
   "source": [
    "# importing some necessary library \n",
    "import pandas as pd # Data preporcessing\n",
    "import numpy as np #Lienar algebra\n",
    "import matplotlib.pyplot as plt #MATLAB style plotting\n",
    "import seaborn as sns\n",
    "sns.set(style='darkgrid')\n",
    "plt.rc('font',size=14)\n",
    "\n",
    "from scipy import stats\n",
    "from scipy.stats import norm,skew #Statistics\n",
    "\n",
    "import warnings #Ignore annoying warning\n",
    "def ignore_warning(*args,**kwargs):\n",
    "    pass\n",
    "warnings.warn = ignore_warning"
   ]
  },
  {
   "cell_type": "code",
   "execution_count": 200,
   "metadata": {},
   "outputs": [
    {
     "name": "stdout",
     "output_type": "stream",
     "text": [
      "Big_mart_solution.ipynb\n",
      "Test.csv\n",
      "Train.csv\n",
      "\n"
     ]
    }
   ],
   "source": [
    "from subprocess import check_output\n",
    "print(check_output(['ls','../Big_Mart_Problem/']).decode('utf8'))"
   ]
  },
  {
   "cell_type": "markdown",
   "metadata": {},
   "source": [
    "## Load Train & Test data"
   ]
  },
  {
   "cell_type": "code",
   "execution_count": 201,
   "metadata": {},
   "outputs": [],
   "source": [
    "train = pd.read_csv('Train.csv')\n",
    "test = pd.read_csv('Test.csv')"
   ]
  },
  {
   "cell_type": "code",
   "execution_count": 202,
   "metadata": {},
   "outputs": [
    {
     "data": {
      "text/html": [
       "<div>\n",
       "<style scoped>\n",
       "    .dataframe tbody tr th:only-of-type {\n",
       "        vertical-align: middle;\n",
       "    }\n",
       "\n",
       "    .dataframe tbody tr th {\n",
       "        vertical-align: top;\n",
       "    }\n",
       "\n",
       "    .dataframe thead th {\n",
       "        text-align: right;\n",
       "    }\n",
       "</style>\n",
       "<table border=\"1\" class=\"dataframe\">\n",
       "  <thead>\n",
       "    <tr style=\"text-align: right;\">\n",
       "      <th></th>\n",
       "      <th>Item_Identifier</th>\n",
       "      <th>Item_Weight</th>\n",
       "      <th>Item_Fat_Content</th>\n",
       "      <th>Item_Visibility</th>\n",
       "      <th>Item_Type</th>\n",
       "      <th>Item_MRP</th>\n",
       "      <th>Outlet_Identifier</th>\n",
       "      <th>Outlet_Establishment_Year</th>\n",
       "      <th>Outlet_Size</th>\n",
       "      <th>Outlet_Location_Type</th>\n",
       "      <th>Outlet_Type</th>\n",
       "      <th>Item_Outlet_Sales</th>\n",
       "    </tr>\n",
       "  </thead>\n",
       "  <tbody>\n",
       "    <tr>\n",
       "      <th>0</th>\n",
       "      <td>FDA15</td>\n",
       "      <td>9.30</td>\n",
       "      <td>Low Fat</td>\n",
       "      <td>0.016047</td>\n",
       "      <td>Dairy</td>\n",
       "      <td>249.8092</td>\n",
       "      <td>OUT049</td>\n",
       "      <td>1999</td>\n",
       "      <td>Medium</td>\n",
       "      <td>Tier 1</td>\n",
       "      <td>Supermarket Type1</td>\n",
       "      <td>3735.1380</td>\n",
       "    </tr>\n",
       "    <tr>\n",
       "      <th>1</th>\n",
       "      <td>DRC01</td>\n",
       "      <td>5.92</td>\n",
       "      <td>Regular</td>\n",
       "      <td>0.019278</td>\n",
       "      <td>Soft Drinks</td>\n",
       "      <td>48.2692</td>\n",
       "      <td>OUT018</td>\n",
       "      <td>2009</td>\n",
       "      <td>Medium</td>\n",
       "      <td>Tier 3</td>\n",
       "      <td>Supermarket Type2</td>\n",
       "      <td>443.4228</td>\n",
       "    </tr>\n",
       "    <tr>\n",
       "      <th>2</th>\n",
       "      <td>FDN15</td>\n",
       "      <td>17.50</td>\n",
       "      <td>Low Fat</td>\n",
       "      <td>0.016760</td>\n",
       "      <td>Meat</td>\n",
       "      <td>141.6180</td>\n",
       "      <td>OUT049</td>\n",
       "      <td>1999</td>\n",
       "      <td>Medium</td>\n",
       "      <td>Tier 1</td>\n",
       "      <td>Supermarket Type1</td>\n",
       "      <td>2097.2700</td>\n",
       "    </tr>\n",
       "    <tr>\n",
       "      <th>3</th>\n",
       "      <td>FDX07</td>\n",
       "      <td>19.20</td>\n",
       "      <td>Regular</td>\n",
       "      <td>0.000000</td>\n",
       "      <td>Fruits and Vegetables</td>\n",
       "      <td>182.0950</td>\n",
       "      <td>OUT010</td>\n",
       "      <td>1998</td>\n",
       "      <td>NaN</td>\n",
       "      <td>Tier 3</td>\n",
       "      <td>Grocery Store</td>\n",
       "      <td>732.3800</td>\n",
       "    </tr>\n",
       "    <tr>\n",
       "      <th>4</th>\n",
       "      <td>NCD19</td>\n",
       "      <td>8.93</td>\n",
       "      <td>Low Fat</td>\n",
       "      <td>0.000000</td>\n",
       "      <td>Household</td>\n",
       "      <td>53.8614</td>\n",
       "      <td>OUT013</td>\n",
       "      <td>1987</td>\n",
       "      <td>High</td>\n",
       "      <td>Tier 3</td>\n",
       "      <td>Supermarket Type1</td>\n",
       "      <td>994.7052</td>\n",
       "    </tr>\n",
       "  </tbody>\n",
       "</table>\n",
       "</div>"
      ],
      "text/plain": [
       "  Item_Identifier  Item_Weight Item_Fat_Content  Item_Visibility  \\\n",
       "0           FDA15         9.30          Low Fat         0.016047   \n",
       "1           DRC01         5.92          Regular         0.019278   \n",
       "2           FDN15        17.50          Low Fat         0.016760   \n",
       "3           FDX07        19.20          Regular         0.000000   \n",
       "4           NCD19         8.93          Low Fat         0.000000   \n",
       "\n",
       "               Item_Type  Item_MRP Outlet_Identifier  \\\n",
       "0                  Dairy  249.8092            OUT049   \n",
       "1            Soft Drinks   48.2692            OUT018   \n",
       "2                   Meat  141.6180            OUT049   \n",
       "3  Fruits and Vegetables  182.0950            OUT010   \n",
       "4              Household   53.8614            OUT013   \n",
       "\n",
       "   Outlet_Establishment_Year Outlet_Size Outlet_Location_Type  \\\n",
       "0                       1999      Medium               Tier 1   \n",
       "1                       2009      Medium               Tier 3   \n",
       "2                       1999      Medium               Tier 1   \n",
       "3                       1998         NaN               Tier 3   \n",
       "4                       1987        High               Tier 3   \n",
       "\n",
       "         Outlet_Type  Item_Outlet_Sales  \n",
       "0  Supermarket Type1          3735.1380  \n",
       "1  Supermarket Type2           443.4228  \n",
       "2  Supermarket Type1          2097.2700  \n",
       "3      Grocery Store           732.3800  \n",
       "4  Supermarket Type1           994.7052  "
      ]
     },
     "execution_count": 202,
     "metadata": {},
     "output_type": "execute_result"
    }
   ],
   "source": [
    "#Dislpay first five rows Trainnig dataset\n",
    "train.head()"
   ]
  },
  {
   "cell_type": "code",
   "execution_count": 203,
   "metadata": {},
   "outputs": [
    {
     "data": {
      "text/html": [
       "<div>\n",
       "<style scoped>\n",
       "    .dataframe tbody tr th:only-of-type {\n",
       "        vertical-align: middle;\n",
       "    }\n",
       "\n",
       "    .dataframe tbody tr th {\n",
       "        vertical-align: top;\n",
       "    }\n",
       "\n",
       "    .dataframe thead th {\n",
       "        text-align: right;\n",
       "    }\n",
       "</style>\n",
       "<table border=\"1\" class=\"dataframe\">\n",
       "  <thead>\n",
       "    <tr style=\"text-align: right;\">\n",
       "      <th></th>\n",
       "      <th>Item_Identifier</th>\n",
       "      <th>Item_Weight</th>\n",
       "      <th>Item_Fat_Content</th>\n",
       "      <th>Item_Visibility</th>\n",
       "      <th>Item_Type</th>\n",
       "      <th>Item_MRP</th>\n",
       "      <th>Outlet_Identifier</th>\n",
       "      <th>Outlet_Establishment_Year</th>\n",
       "      <th>Outlet_Size</th>\n",
       "      <th>Outlet_Location_Type</th>\n",
       "      <th>Outlet_Type</th>\n",
       "    </tr>\n",
       "  </thead>\n",
       "  <tbody>\n",
       "    <tr>\n",
       "      <th>0</th>\n",
       "      <td>FDW58</td>\n",
       "      <td>20.750</td>\n",
       "      <td>Low Fat</td>\n",
       "      <td>0.007565</td>\n",
       "      <td>Snack Foods</td>\n",
       "      <td>107.8622</td>\n",
       "      <td>OUT049</td>\n",
       "      <td>1999</td>\n",
       "      <td>Medium</td>\n",
       "      <td>Tier 1</td>\n",
       "      <td>Supermarket Type1</td>\n",
       "    </tr>\n",
       "    <tr>\n",
       "      <th>1</th>\n",
       "      <td>FDW14</td>\n",
       "      <td>8.300</td>\n",
       "      <td>reg</td>\n",
       "      <td>0.038428</td>\n",
       "      <td>Dairy</td>\n",
       "      <td>87.3198</td>\n",
       "      <td>OUT017</td>\n",
       "      <td>2007</td>\n",
       "      <td>NaN</td>\n",
       "      <td>Tier 2</td>\n",
       "      <td>Supermarket Type1</td>\n",
       "    </tr>\n",
       "    <tr>\n",
       "      <th>2</th>\n",
       "      <td>NCN55</td>\n",
       "      <td>14.600</td>\n",
       "      <td>Low Fat</td>\n",
       "      <td>0.099575</td>\n",
       "      <td>Others</td>\n",
       "      <td>241.7538</td>\n",
       "      <td>OUT010</td>\n",
       "      <td>1998</td>\n",
       "      <td>NaN</td>\n",
       "      <td>Tier 3</td>\n",
       "      <td>Grocery Store</td>\n",
       "    </tr>\n",
       "    <tr>\n",
       "      <th>3</th>\n",
       "      <td>FDQ58</td>\n",
       "      <td>7.315</td>\n",
       "      <td>Low Fat</td>\n",
       "      <td>0.015388</td>\n",
       "      <td>Snack Foods</td>\n",
       "      <td>155.0340</td>\n",
       "      <td>OUT017</td>\n",
       "      <td>2007</td>\n",
       "      <td>NaN</td>\n",
       "      <td>Tier 2</td>\n",
       "      <td>Supermarket Type1</td>\n",
       "    </tr>\n",
       "    <tr>\n",
       "      <th>4</th>\n",
       "      <td>FDY38</td>\n",
       "      <td>NaN</td>\n",
       "      <td>Regular</td>\n",
       "      <td>0.118599</td>\n",
       "      <td>Dairy</td>\n",
       "      <td>234.2300</td>\n",
       "      <td>OUT027</td>\n",
       "      <td>1985</td>\n",
       "      <td>Medium</td>\n",
       "      <td>Tier 3</td>\n",
       "      <td>Supermarket Type3</td>\n",
       "    </tr>\n",
       "  </tbody>\n",
       "</table>\n",
       "</div>"
      ],
      "text/plain": [
       "  Item_Identifier  Item_Weight Item_Fat_Content  Item_Visibility    Item_Type  \\\n",
       "0           FDW58       20.750          Low Fat         0.007565  Snack Foods   \n",
       "1           FDW14        8.300              reg         0.038428        Dairy   \n",
       "2           NCN55       14.600          Low Fat         0.099575       Others   \n",
       "3           FDQ58        7.315          Low Fat         0.015388  Snack Foods   \n",
       "4           FDY38          NaN          Regular         0.118599        Dairy   \n",
       "\n",
       "   Item_MRP Outlet_Identifier  Outlet_Establishment_Year Outlet_Size  \\\n",
       "0  107.8622            OUT049                       1999      Medium   \n",
       "1   87.3198            OUT017                       2007         NaN   \n",
       "2  241.7538            OUT010                       1998         NaN   \n",
       "3  155.0340            OUT017                       2007         NaN   \n",
       "4  234.2300            OUT027                       1985      Medium   \n",
       "\n",
       "  Outlet_Location_Type        Outlet_Type  \n",
       "0               Tier 1  Supermarket Type1  \n",
       "1               Tier 2  Supermarket Type1  \n",
       "2               Tier 3      Grocery Store  \n",
       "3               Tier 2  Supermarket Type1  \n",
       "4               Tier 3  Supermarket Type3  "
      ]
     },
     "execution_count": 203,
     "metadata": {},
     "output_type": "execute_result"
    }
   ],
   "source": [
    "#Dislpay first five rows Test dataset\n",
    "test.head()"
   ]
  },
  {
   "cell_type": "code",
   "execution_count": 204,
   "metadata": {},
   "outputs": [
    {
     "data": {
      "text/plain": [
       "(8523, 12)"
      ]
     },
     "execution_count": 204,
     "metadata": {},
     "output_type": "execute_result"
    }
   ],
   "source": [
    "train.shape"
   ]
  },
  {
   "cell_type": "code",
   "execution_count": 205,
   "metadata": {},
   "outputs": [
    {
     "data": {
      "text/plain": [
       "(5681, 11)"
      ]
     },
     "execution_count": 205,
     "metadata": {},
     "output_type": "execute_result"
    }
   ],
   "source": [
    "test.shape"
   ]
  },
  {
   "cell_type": "markdown",
   "metadata": {},
   "source": [
    "## Variable Identification"
   ]
  },
  {
   "cell_type": "code",
   "execution_count": 206,
   "metadata": {},
   "outputs": [
    {
     "name": "stdout",
     "output_type": "stream",
     "text": [
      "<class 'pandas.core.frame.DataFrame'>\n",
      "RangeIndex: 8523 entries, 0 to 8522\n",
      "Data columns (total 12 columns):\n",
      "Item_Identifier              8523 non-null object\n",
      "Item_Weight                  7060 non-null float64\n",
      "Item_Fat_Content             8523 non-null object\n",
      "Item_Visibility              8523 non-null float64\n",
      "Item_Type                    8523 non-null object\n",
      "Item_MRP                     8523 non-null float64\n",
      "Outlet_Identifier            8523 non-null object\n",
      "Outlet_Establishment_Year    8523 non-null int64\n",
      "Outlet_Size                  6113 non-null object\n",
      "Outlet_Location_Type         8523 non-null object\n",
      "Outlet_Type                  8523 non-null object\n",
      "Item_Outlet_Sales            8523 non-null float64\n",
      "dtypes: float64(4), int64(1), object(7)\n",
      "memory usage: 799.1+ KB\n"
     ]
    }
   ],
   "source": [
    "train.info()"
   ]
  },
  {
   "cell_type": "code",
   "execution_count": 207,
   "metadata": {},
   "outputs": [
    {
     "name": "stdout",
     "output_type": "stream",
     "text": [
      "<class 'pandas.core.frame.DataFrame'>\n",
      "RangeIndex: 5681 entries, 0 to 5680\n",
      "Data columns (total 11 columns):\n",
      "Item_Identifier              5681 non-null object\n",
      "Item_Weight                  4705 non-null float64\n",
      "Item_Fat_Content             5681 non-null object\n",
      "Item_Visibility              5681 non-null float64\n",
      "Item_Type                    5681 non-null object\n",
      "Item_MRP                     5681 non-null float64\n",
      "Outlet_Identifier            5681 non-null object\n",
      "Outlet_Establishment_Year    5681 non-null int64\n",
      "Outlet_Size                  4075 non-null object\n",
      "Outlet_Location_Type         5681 non-null object\n",
      "Outlet_Type                  5681 non-null object\n",
      "dtypes: float64(3), int64(1), object(7)\n",
      "memory usage: 488.3+ KB\n"
     ]
    }
   ],
   "source": [
    "test.info()"
   ]
  },
  {
   "cell_type": "code",
   "execution_count": 208,
   "metadata": {},
   "outputs": [
    {
     "data": {
      "text/plain": [
       "float64    4\n",
       "int64      1\n",
       "object     7\n",
       "dtype: int64"
      ]
     },
     "execution_count": 208,
     "metadata": {},
     "output_type": "execute_result"
    }
   ],
   "source": [
    "train.get_dtype_counts()"
   ]
  },
  {
   "cell_type": "markdown",
   "metadata": {},
   "source": [
    "## Summary of dataset"
   ]
  },
  {
   "cell_type": "code",
   "execution_count": 209,
   "metadata": {},
   "outputs": [
    {
     "data": {
      "text/html": [
       "<div>\n",
       "<style scoped>\n",
       "    .dataframe tbody tr th:only-of-type {\n",
       "        vertical-align: middle;\n",
       "    }\n",
       "\n",
       "    .dataframe tbody tr th {\n",
       "        vertical-align: top;\n",
       "    }\n",
       "\n",
       "    .dataframe thead th {\n",
       "        text-align: right;\n",
       "    }\n",
       "</style>\n",
       "<table border=\"1\" class=\"dataframe\">\n",
       "  <thead>\n",
       "    <tr style=\"text-align: right;\">\n",
       "      <th></th>\n",
       "      <th>Item_Weight</th>\n",
       "      <th>Item_Visibility</th>\n",
       "      <th>Item_MRP</th>\n",
       "      <th>Outlet_Establishment_Year</th>\n",
       "      <th>Item_Outlet_Sales</th>\n",
       "    </tr>\n",
       "  </thead>\n",
       "  <tbody>\n",
       "    <tr>\n",
       "      <th>count</th>\n",
       "      <td>7060.000000</td>\n",
       "      <td>8523.000000</td>\n",
       "      <td>8523.000000</td>\n",
       "      <td>8523.000000</td>\n",
       "      <td>8523.000000</td>\n",
       "    </tr>\n",
       "    <tr>\n",
       "      <th>mean</th>\n",
       "      <td>12.857645</td>\n",
       "      <td>0.066132</td>\n",
       "      <td>140.992782</td>\n",
       "      <td>1997.831867</td>\n",
       "      <td>2181.288914</td>\n",
       "    </tr>\n",
       "    <tr>\n",
       "      <th>std</th>\n",
       "      <td>4.643456</td>\n",
       "      <td>0.051598</td>\n",
       "      <td>62.275067</td>\n",
       "      <td>8.371760</td>\n",
       "      <td>1706.499616</td>\n",
       "    </tr>\n",
       "    <tr>\n",
       "      <th>min</th>\n",
       "      <td>4.555000</td>\n",
       "      <td>0.000000</td>\n",
       "      <td>31.290000</td>\n",
       "      <td>1985.000000</td>\n",
       "      <td>33.290000</td>\n",
       "    </tr>\n",
       "    <tr>\n",
       "      <th>25%</th>\n",
       "      <td>8.773750</td>\n",
       "      <td>0.026989</td>\n",
       "      <td>93.826500</td>\n",
       "      <td>1987.000000</td>\n",
       "      <td>834.247400</td>\n",
       "    </tr>\n",
       "    <tr>\n",
       "      <th>50%</th>\n",
       "      <td>12.600000</td>\n",
       "      <td>0.053931</td>\n",
       "      <td>143.012800</td>\n",
       "      <td>1999.000000</td>\n",
       "      <td>1794.331000</td>\n",
       "    </tr>\n",
       "    <tr>\n",
       "      <th>75%</th>\n",
       "      <td>16.850000</td>\n",
       "      <td>0.094585</td>\n",
       "      <td>185.643700</td>\n",
       "      <td>2004.000000</td>\n",
       "      <td>3101.296400</td>\n",
       "    </tr>\n",
       "    <tr>\n",
       "      <th>max</th>\n",
       "      <td>21.350000</td>\n",
       "      <td>0.328391</td>\n",
       "      <td>266.888400</td>\n",
       "      <td>2009.000000</td>\n",
       "      <td>13086.964800</td>\n",
       "    </tr>\n",
       "  </tbody>\n",
       "</table>\n",
       "</div>"
      ],
      "text/plain": [
       "       Item_Weight  Item_Visibility     Item_MRP  Outlet_Establishment_Year  \\\n",
       "count  7060.000000      8523.000000  8523.000000                8523.000000   \n",
       "mean     12.857645         0.066132   140.992782                1997.831867   \n",
       "std       4.643456         0.051598    62.275067                   8.371760   \n",
       "min       4.555000         0.000000    31.290000                1985.000000   \n",
       "25%       8.773750         0.026989    93.826500                1987.000000   \n",
       "50%      12.600000         0.053931   143.012800                1999.000000   \n",
       "75%      16.850000         0.094585   185.643700                2004.000000   \n",
       "max      21.350000         0.328391   266.888400                2009.000000   \n",
       "\n",
       "       Item_Outlet_Sales  \n",
       "count        8523.000000  \n",
       "mean         2181.288914  \n",
       "std          1706.499616  \n",
       "min            33.290000  \n",
       "25%           834.247400  \n",
       "50%          1794.331000  \n",
       "75%          3101.296400  \n",
       "max         13086.964800  "
      ]
     },
     "execution_count": 209,
     "metadata": {},
     "output_type": "execute_result"
    }
   ],
   "source": [
    "train.describe()"
   ]
  },
  {
   "cell_type": "code",
   "execution_count": 210,
   "metadata": {},
   "outputs": [
    {
     "data": {
      "text/html": [
       "<div>\n",
       "<style scoped>\n",
       "    .dataframe tbody tr th:only-of-type {\n",
       "        vertical-align: middle;\n",
       "    }\n",
       "\n",
       "    .dataframe tbody tr th {\n",
       "        vertical-align: top;\n",
       "    }\n",
       "\n",
       "    .dataframe thead th {\n",
       "        text-align: right;\n",
       "    }\n",
       "</style>\n",
       "<table border=\"1\" class=\"dataframe\">\n",
       "  <thead>\n",
       "    <tr style=\"text-align: right;\">\n",
       "      <th></th>\n",
       "      <th>Item_Weight</th>\n",
       "      <th>Item_Visibility</th>\n",
       "      <th>Item_MRP</th>\n",
       "      <th>Outlet_Establishment_Year</th>\n",
       "    </tr>\n",
       "  </thead>\n",
       "  <tbody>\n",
       "    <tr>\n",
       "      <th>count</th>\n",
       "      <td>4705.000000</td>\n",
       "      <td>5681.000000</td>\n",
       "      <td>5681.000000</td>\n",
       "      <td>5681.000000</td>\n",
       "    </tr>\n",
       "    <tr>\n",
       "      <th>mean</th>\n",
       "      <td>12.695633</td>\n",
       "      <td>0.065684</td>\n",
       "      <td>141.023273</td>\n",
       "      <td>1997.828903</td>\n",
       "    </tr>\n",
       "    <tr>\n",
       "      <th>std</th>\n",
       "      <td>4.664849</td>\n",
       "      <td>0.051252</td>\n",
       "      <td>61.809091</td>\n",
       "      <td>8.372256</td>\n",
       "    </tr>\n",
       "    <tr>\n",
       "      <th>min</th>\n",
       "      <td>4.555000</td>\n",
       "      <td>0.000000</td>\n",
       "      <td>31.990000</td>\n",
       "      <td>1985.000000</td>\n",
       "    </tr>\n",
       "    <tr>\n",
       "      <th>25%</th>\n",
       "      <td>8.645000</td>\n",
       "      <td>0.027047</td>\n",
       "      <td>94.412000</td>\n",
       "      <td>1987.000000</td>\n",
       "    </tr>\n",
       "    <tr>\n",
       "      <th>50%</th>\n",
       "      <td>12.500000</td>\n",
       "      <td>0.054154</td>\n",
       "      <td>141.415400</td>\n",
       "      <td>1999.000000</td>\n",
       "    </tr>\n",
       "    <tr>\n",
       "      <th>75%</th>\n",
       "      <td>16.700000</td>\n",
       "      <td>0.093463</td>\n",
       "      <td>186.026600</td>\n",
       "      <td>2004.000000</td>\n",
       "    </tr>\n",
       "    <tr>\n",
       "      <th>max</th>\n",
       "      <td>21.350000</td>\n",
       "      <td>0.323637</td>\n",
       "      <td>266.588400</td>\n",
       "      <td>2009.000000</td>\n",
       "    </tr>\n",
       "  </tbody>\n",
       "</table>\n",
       "</div>"
      ],
      "text/plain": [
       "       Item_Weight  Item_Visibility     Item_MRP  Outlet_Establishment_Year\n",
       "count  4705.000000      5681.000000  5681.000000                5681.000000\n",
       "mean     12.695633         0.065684   141.023273                1997.828903\n",
       "std       4.664849         0.051252    61.809091                   8.372256\n",
       "min       4.555000         0.000000    31.990000                1985.000000\n",
       "25%       8.645000         0.027047    94.412000                1987.000000\n",
       "50%      12.500000         0.054154   141.415400                1999.000000\n",
       "75%      16.700000         0.093463   186.026600                2004.000000\n",
       "max      21.350000         0.323637   266.588400                2009.000000"
      ]
     },
     "execution_count": 210,
     "metadata": {},
     "output_type": "execute_result"
    }
   ],
   "source": [
    "test.describe()"
   ]
  },
  {
   "cell_type": "code",
   "execution_count": 211,
   "metadata": {},
   "outputs": [],
   "source": [
    "y_train = train.Item_Outlet_Sales"
   ]
  },
  {
   "cell_type": "code",
   "execution_count": 212,
   "metadata": {},
   "outputs": [
    {
     "name": "stdout",
     "output_type": "stream",
     "text": [
      "8523 5681\n"
     ]
    }
   ],
   "source": [
    "n_train = train.shape[0]\n",
    "n_test = test.shape[0]\n",
    "print(n_train,n_test)"
   ]
  },
  {
   "cell_type": "code",
   "execution_count": 213,
   "metadata": {},
   "outputs": [],
   "source": [
    "data = pd.concat(objs = (train,test)).reset_index(drop=True)"
   ]
  },
  {
   "cell_type": "markdown",
   "metadata": {},
   "source": [
    "## Numerical and Categorical features\n"
   ]
  },
  {
   "cell_type": "code",
   "execution_count": 214,
   "metadata": {},
   "outputs": [
    {
     "name": "stdout",
     "output_type": "stream",
     "text": [
      "Number of Categorical Features 7\n",
      "Number of Numerical Features 5\n"
     ]
    }
   ],
   "source": [
    "categorical_feats = data.dtypes[data.dtypes == \"object\"].index\n",
    "numerical_feats = data.dtypes[data.dtypes != \"object\"].index\n",
    "print(\"Number of Categorical Features %d\"%(len(categorical_feats)))\n",
    "print(\"Number of Numerical Features %d\"%(len(numerical_feats)))"
   ]
  },
  {
   "cell_type": "code",
   "execution_count": 215,
   "metadata": {},
   "outputs": [
    {
     "name": "stdout",
     "output_type": "stream",
     "text": [
      "Categorical Features :-\n",
      "Index(['Item_Fat_Content', 'Item_Identifier', 'Item_Type', 'Outlet_Identifier',\n",
      "       'Outlet_Location_Type', 'Outlet_Size', 'Outlet_Type'],\n",
      "      dtype='object')\n",
      "****************************************************************************************************\n",
      "Numerical Features :- \n",
      "Index(['Item_MRP', 'Item_Outlet_Sales', 'Item_Visibility', 'Item_Weight',\n",
      "       'Outlet_Establishment_Year'],\n",
      "      dtype='object')\n"
     ]
    }
   ],
   "source": [
    "print(\"Categorical Features :-\")\n",
    "print(data[categorical_feats].columns)\n",
    "print(\"*\"*100)\n",
    "print(\"Numerical Features :- \")\n",
    "print(data[numerical_feats].columns)"
   ]
  },
  {
   "cell_type": "code",
   "execution_count": 216,
   "metadata": {},
   "outputs": [
    {
     "data": {
      "text/html": [
       "<div>\n",
       "<style scoped>\n",
       "    .dataframe tbody tr th:only-of-type {\n",
       "        vertical-align: middle;\n",
       "    }\n",
       "\n",
       "    .dataframe tbody tr th {\n",
       "        vertical-align: top;\n",
       "    }\n",
       "\n",
       "    .dataframe thead th {\n",
       "        text-align: right;\n",
       "    }\n",
       "</style>\n",
       "<table border=\"1\" class=\"dataframe\">\n",
       "  <thead>\n",
       "    <tr style=\"text-align: right;\">\n",
       "      <th></th>\n",
       "      <th>Item_Fat_Content</th>\n",
       "      <th>Item_Identifier</th>\n",
       "      <th>Item_Type</th>\n",
       "      <th>Outlet_Identifier</th>\n",
       "      <th>Outlet_Location_Type</th>\n",
       "      <th>Outlet_Size</th>\n",
       "      <th>Outlet_Type</th>\n",
       "    </tr>\n",
       "  </thead>\n",
       "  <tbody>\n",
       "    <tr>\n",
       "      <th>0</th>\n",
       "      <td>Low Fat</td>\n",
       "      <td>FDA15</td>\n",
       "      <td>Dairy</td>\n",
       "      <td>OUT049</td>\n",
       "      <td>Tier 1</td>\n",
       "      <td>Medium</td>\n",
       "      <td>Supermarket Type1</td>\n",
       "    </tr>\n",
       "    <tr>\n",
       "      <th>1</th>\n",
       "      <td>Regular</td>\n",
       "      <td>DRC01</td>\n",
       "      <td>Soft Drinks</td>\n",
       "      <td>OUT018</td>\n",
       "      <td>Tier 3</td>\n",
       "      <td>Medium</td>\n",
       "      <td>Supermarket Type2</td>\n",
       "    </tr>\n",
       "    <tr>\n",
       "      <th>2</th>\n",
       "      <td>Low Fat</td>\n",
       "      <td>FDN15</td>\n",
       "      <td>Meat</td>\n",
       "      <td>OUT049</td>\n",
       "      <td>Tier 1</td>\n",
       "      <td>Medium</td>\n",
       "      <td>Supermarket Type1</td>\n",
       "    </tr>\n",
       "    <tr>\n",
       "      <th>3</th>\n",
       "      <td>Regular</td>\n",
       "      <td>FDX07</td>\n",
       "      <td>Fruits and Vegetables</td>\n",
       "      <td>OUT010</td>\n",
       "      <td>Tier 3</td>\n",
       "      <td>NaN</td>\n",
       "      <td>Grocery Store</td>\n",
       "    </tr>\n",
       "    <tr>\n",
       "      <th>4</th>\n",
       "      <td>Low Fat</td>\n",
       "      <td>NCD19</td>\n",
       "      <td>Household</td>\n",
       "      <td>OUT013</td>\n",
       "      <td>Tier 3</td>\n",
       "      <td>High</td>\n",
       "      <td>Supermarket Type1</td>\n",
       "    </tr>\n",
       "  </tbody>\n",
       "</table>\n",
       "</div>"
      ],
      "text/plain": [
       "  Item_Fat_Content Item_Identifier              Item_Type Outlet_Identifier  \\\n",
       "0          Low Fat           FDA15                  Dairy            OUT049   \n",
       "1          Regular           DRC01            Soft Drinks            OUT018   \n",
       "2          Low Fat           FDN15                   Meat            OUT049   \n",
       "3          Regular           FDX07  Fruits and Vegetables            OUT010   \n",
       "4          Low Fat           NCD19              Household            OUT013   \n",
       "\n",
       "  Outlet_Location_Type Outlet_Size        Outlet_Type  \n",
       "0               Tier 1      Medium  Supermarket Type1  \n",
       "1               Tier 3      Medium  Supermarket Type2  \n",
       "2               Tier 1      Medium  Supermarket Type1  \n",
       "3               Tier 3         NaN      Grocery Store  \n",
       "4               Tier 3        High  Supermarket Type1  "
      ]
     },
     "execution_count": 216,
     "metadata": {},
     "output_type": "execute_result"
    }
   ],
   "source": [
    "data[categorical_feats].head()"
   ]
  },
  {
   "cell_type": "code",
   "execution_count": 217,
   "metadata": {},
   "outputs": [
    {
     "data": {
      "text/html": [
       "<div>\n",
       "<style scoped>\n",
       "    .dataframe tbody tr th:only-of-type {\n",
       "        vertical-align: middle;\n",
       "    }\n",
       "\n",
       "    .dataframe tbody tr th {\n",
       "        vertical-align: top;\n",
       "    }\n",
       "\n",
       "    .dataframe thead th {\n",
       "        text-align: right;\n",
       "    }\n",
       "</style>\n",
       "<table border=\"1\" class=\"dataframe\">\n",
       "  <thead>\n",
       "    <tr style=\"text-align: right;\">\n",
       "      <th></th>\n",
       "      <th>Item_MRP</th>\n",
       "      <th>Item_Outlet_Sales</th>\n",
       "      <th>Item_Visibility</th>\n",
       "      <th>Item_Weight</th>\n",
       "      <th>Outlet_Establishment_Year</th>\n",
       "    </tr>\n",
       "  </thead>\n",
       "  <tbody>\n",
       "    <tr>\n",
       "      <th>0</th>\n",
       "      <td>249.8092</td>\n",
       "      <td>3735.1380</td>\n",
       "      <td>0.016047</td>\n",
       "      <td>9.30</td>\n",
       "      <td>1999</td>\n",
       "    </tr>\n",
       "    <tr>\n",
       "      <th>1</th>\n",
       "      <td>48.2692</td>\n",
       "      <td>443.4228</td>\n",
       "      <td>0.019278</td>\n",
       "      <td>5.92</td>\n",
       "      <td>2009</td>\n",
       "    </tr>\n",
       "    <tr>\n",
       "      <th>2</th>\n",
       "      <td>141.6180</td>\n",
       "      <td>2097.2700</td>\n",
       "      <td>0.016760</td>\n",
       "      <td>17.50</td>\n",
       "      <td>1999</td>\n",
       "    </tr>\n",
       "    <tr>\n",
       "      <th>3</th>\n",
       "      <td>182.0950</td>\n",
       "      <td>732.3800</td>\n",
       "      <td>0.000000</td>\n",
       "      <td>19.20</td>\n",
       "      <td>1998</td>\n",
       "    </tr>\n",
       "    <tr>\n",
       "      <th>4</th>\n",
       "      <td>53.8614</td>\n",
       "      <td>994.7052</td>\n",
       "      <td>0.000000</td>\n",
       "      <td>8.93</td>\n",
       "      <td>1987</td>\n",
       "    </tr>\n",
       "  </tbody>\n",
       "</table>\n",
       "</div>"
      ],
      "text/plain": [
       "   Item_MRP  Item_Outlet_Sales  Item_Visibility  Item_Weight  \\\n",
       "0  249.8092          3735.1380         0.016047         9.30   \n",
       "1   48.2692           443.4228         0.019278         5.92   \n",
       "2  141.6180          2097.2700         0.016760        17.50   \n",
       "3  182.0950           732.3800         0.000000        19.20   \n",
       "4   53.8614           994.7052         0.000000         8.93   \n",
       "\n",
       "   Outlet_Establishment_Year  \n",
       "0                       1999  \n",
       "1                       2009  \n",
       "2                       1999  \n",
       "3                       1998  \n",
       "4                       1987  "
      ]
     },
     "execution_count": 217,
     "metadata": {},
     "output_type": "execute_result"
    }
   ],
   "source": [
    "data[numerical_feats].head()"
   ]
  },
  {
   "cell_type": "markdown",
   "metadata": {},
   "source": [
    "## Feature with missing values"
   ]
  },
  {
   "cell_type": "code",
   "execution_count": 218,
   "metadata": {},
   "outputs": [],
   "source": [
    "percent = data.isnull().sum()/len(data)*100\n",
    "total = data.isnull().sum()"
   ]
  },
  {
   "cell_type": "code",
   "execution_count": 219,
   "metadata": {},
   "outputs": [],
   "source": [
    "data_na_ratio = pd.concat(objs=[total,percent],axis=1,keys=['Total','Percent']).sort_values(by='Total',ascending=False)"
   ]
  },
  {
   "cell_type": "code",
   "execution_count": 220,
   "metadata": {},
   "outputs": [
    {
     "data": {
      "text/html": [
       "<div>\n",
       "<style scoped>\n",
       "    .dataframe tbody tr th:only-of-type {\n",
       "        vertical-align: middle;\n",
       "    }\n",
       "\n",
       "    .dataframe tbody tr th {\n",
       "        vertical-align: top;\n",
       "    }\n",
       "\n",
       "    .dataframe thead th {\n",
       "        text-align: right;\n",
       "    }\n",
       "</style>\n",
       "<table border=\"1\" class=\"dataframe\">\n",
       "  <thead>\n",
       "    <tr style=\"text-align: right;\">\n",
       "      <th></th>\n",
       "      <th>Total</th>\n",
       "      <th>Percent</th>\n",
       "    </tr>\n",
       "  </thead>\n",
       "  <tbody>\n",
       "    <tr>\n",
       "      <th>Item_Outlet_Sales</th>\n",
       "      <td>5681</td>\n",
       "      <td>39.995776</td>\n",
       "    </tr>\n",
       "    <tr>\n",
       "      <th>Outlet_Size</th>\n",
       "      <td>4016</td>\n",
       "      <td>28.273726</td>\n",
       "    </tr>\n",
       "    <tr>\n",
       "      <th>Item_Weight</th>\n",
       "      <td>2439</td>\n",
       "      <td>17.171219</td>\n",
       "    </tr>\n",
       "  </tbody>\n",
       "</table>\n",
       "</div>"
      ],
      "text/plain": [
       "                   Total    Percent\n",
       "Item_Outlet_Sales   5681  39.995776\n",
       "Outlet_Size         4016  28.273726\n",
       "Item_Weight         2439  17.171219"
      ]
     },
     "execution_count": 220,
     "metadata": {},
     "output_type": "execute_result"
    }
   ],
   "source": [
    "data_na_ratio = data_na_ratio.drop(data_na_ratio[data_na_ratio['Total']==0].index)\n",
    "data_na_ratio"
   ]
  },
  {
   "cell_type": "code",
   "execution_count": 221,
   "metadata": {},
   "outputs": [
    {
     "data": {
      "text/plain": [
       "Text(0,0.5,'Percent of null value by feature')"
      ]
     },
     "execution_count": 221,
     "metadata": {},
     "output_type": "execute_result"
    },
    {
     "data": {
      "image/png": "[encoded data removed]",
      "text/plain": [
       "<Figure size 432x288 with 1 Axes>"
      ]
     },
     "metadata": {},
     "output_type": "display_data"
    }
   ],
   "source": [
    "sns.barplot(x=data_na_ratio.index,y=data_na_ratio['Percent'])\n",
    "plt.xlabel('Feature')\n",
    "plt.ylabel('Percent of null value by feature')\n"
   ]
  },
  {
   "cell_type": "code",
   "execution_count": null,
   "metadata": {},
   "outputs": [],
   "source": [
    "\n"
   ]
  },
  {
   "cell_type": "markdown",
   "metadata": {},
   "source": [
    "## Filling missing values\n"
   ]
  },
  {
   "cell_type": "code",
   "execution_count": 222,
   "metadata": {},
   "outputs": [],
   "source": [
    "data[categorical_feats] = data[categorical_feats].fillna(value=data[categorical_feats].mode())"
   ]
  },
  {
   "cell_type": "code",
   "execution_count": 223,
   "metadata": {},
   "outputs": [],
   "source": [
    "d = numerical_feats!='Item_Outlet_Sales'"
   ]
  },
  {
   "cell_type": "code",
   "execution_count": 224,
   "metadata": {},
   "outputs": [],
   "source": [
    "data[numerical_feats[d]] = data[numerical_feats[d]].fillna(value=data[numerical_feats[d]].mean())"
   ]
  },
  {
   "cell_type": "code",
   "execution_count": 225,
   "metadata": {},
   "outputs": [
    {
     "data": {
      "text/plain": [
       "Item_Fat_Content                0\n",
       "Item_Identifier                 0\n",
       "Item_MRP                        0\n",
       "Item_Outlet_Sales            5681\n",
       "Item_Type                       0\n",
       "Item_Visibility                 0\n",
       "Item_Weight                     0\n",
       "Outlet_Establishment_Year       0\n",
       "Outlet_Identifier               0\n",
       "Outlet_Location_Type            0\n",
       "Outlet_Size                  4016\n",
       "Outlet_Type                     0\n",
       "dtype: int64"
      ]
     },
     "execution_count": 225,
     "metadata": {},
     "output_type": "execute_result"
    }
   ],
   "source": [
    "data.isnull().sum()"
   ]
  },
  {
   "cell_type": "code",
   "execution_count": 226,
   "metadata": {},
   "outputs": [],
   "source": [
    "data[\"Outlet_Size\"]=data[\"Outlet_Size\"].fillna(value='Medium')"
   ]
  },
  {
   "cell_type": "code",
   "execution_count": 227,
   "metadata": {},
   "outputs": [
    {
     "data": {
      "text/plain": [
       "Item_Fat_Content                0\n",
       "Item_Identifier                 0\n",
       "Item_MRP                        0\n",
       "Item_Outlet_Sales            5681\n",
       "Item_Type                       0\n",
       "Item_Visibility                 0\n",
       "Item_Weight                     0\n",
       "Outlet_Establishment_Year       0\n",
       "Outlet_Identifier               0\n",
       "Outlet_Location_Type            0\n",
       "Outlet_Size                     0\n",
       "Outlet_Type                     0\n",
       "dtype: int64"
      ]
     },
     "execution_count": 227,
     "metadata": {},
     "output_type": "execute_result"
    }
   ],
   "source": [
    "data.isnull().sum()"
   ]
  },
  {
   "cell_type": "code",
   "execution_count": 228,
   "metadata": {},
   "outputs": [
    {
     "data": {
      "text/html": [
       "<div>\n",
       "<style scoped>\n",
       "    .dataframe tbody tr th:only-of-type {\n",
       "        vertical-align: middle;\n",
       "    }\n",
       "\n",
       "    .dataframe tbody tr th {\n",
       "        vertical-align: top;\n",
       "    }\n",
       "\n",
       "    .dataframe thead th {\n",
       "        text-align: right;\n",
       "    }\n",
       "</style>\n",
       "<table border=\"1\" class=\"dataframe\">\n",
       "  <thead>\n",
       "    <tr style=\"text-align: right;\">\n",
       "      <th></th>\n",
       "      <th>Item_Fat_Content</th>\n",
       "      <th>Item_Identifier</th>\n",
       "      <th>Item_MRP</th>\n",
       "      <th>Item_Outlet_Sales</th>\n",
       "      <th>Item_Type</th>\n",
       "      <th>Item_Visibility</th>\n",
       "      <th>Item_Weight</th>\n",
       "      <th>Outlet_Establishment_Year</th>\n",
       "      <th>Outlet_Identifier</th>\n",
       "      <th>Outlet_Location_Type</th>\n",
       "      <th>Outlet_Size</th>\n",
       "      <th>Outlet_Type</th>\n",
       "    </tr>\n",
       "  </thead>\n",
       "  <tbody>\n",
       "    <tr>\n",
       "      <th>0</th>\n",
       "      <td>Low Fat</td>\n",
       "      <td>FDA15</td>\n",
       "      <td>249.8092</td>\n",
       "      <td>3735.1380</td>\n",
       "      <td>Dairy</td>\n",
       "      <td>0.016047</td>\n",
       "      <td>9.30</td>\n",
       "      <td>1999</td>\n",
       "      <td>OUT049</td>\n",
       "      <td>Tier 1</td>\n",
       "      <td>Medium</td>\n",
       "      <td>Supermarket Type1</td>\n",
       "    </tr>\n",
       "    <tr>\n",
       "      <th>1</th>\n",
       "      <td>Regular</td>\n",
       "      <td>DRC01</td>\n",
       "      <td>48.2692</td>\n",
       "      <td>443.4228</td>\n",
       "      <td>Soft Drinks</td>\n",
       "      <td>0.019278</td>\n",
       "      <td>5.92</td>\n",
       "      <td>2009</td>\n",
       "      <td>OUT018</td>\n",
       "      <td>Tier 3</td>\n",
       "      <td>Medium</td>\n",
       "      <td>Supermarket Type2</td>\n",
       "    </tr>\n",
       "    <tr>\n",
       "      <th>2</th>\n",
       "      <td>Low Fat</td>\n",
       "      <td>FDN15</td>\n",
       "      <td>141.6180</td>\n",
       "      <td>2097.2700</td>\n",
       "      <td>Meat</td>\n",
       "      <td>0.016760</td>\n",
       "      <td>17.50</td>\n",
       "      <td>1999</td>\n",
       "      <td>OUT049</td>\n",
       "      <td>Tier 1</td>\n",
       "      <td>Medium</td>\n",
       "      <td>Supermarket Type1</td>\n",
       "    </tr>\n",
       "    <tr>\n",
       "      <th>3</th>\n",
       "      <td>Regular</td>\n",
       "      <td>FDX07</td>\n",
       "      <td>182.0950</td>\n",
       "      <td>732.3800</td>\n",
       "      <td>Fruits and Vegetables</td>\n",
       "      <td>0.000000</td>\n",
       "      <td>19.20</td>\n",
       "      <td>1998</td>\n",
       "      <td>OUT010</td>\n",
       "      <td>Tier 3</td>\n",
       "      <td>Medium</td>\n",
       "      <td>Grocery Store</td>\n",
       "    </tr>\n",
       "    <tr>\n",
       "      <th>4</th>\n",
       "      <td>Low Fat</td>\n",
       "      <td>NCD19</td>\n",
       "      <td>53.8614</td>\n",
       "      <td>994.7052</td>\n",
       "      <td>Household</td>\n",
       "      <td>0.000000</td>\n",
       "      <td>8.93</td>\n",
       "      <td>1987</td>\n",
       "      <td>OUT013</td>\n",
       "      <td>Tier 3</td>\n",
       "      <td>High</td>\n",
       "      <td>Supermarket Type1</td>\n",
       "    </tr>\n",
       "  </tbody>\n",
       "</table>\n",
       "</div>"
      ],
      "text/plain": [
       "  Item_Fat_Content Item_Identifier  Item_MRP  Item_Outlet_Sales  \\\n",
       "0          Low Fat           FDA15  249.8092          3735.1380   \n",
       "1          Regular           DRC01   48.2692           443.4228   \n",
       "2          Low Fat           FDN15  141.6180          2097.2700   \n",
       "3          Regular           FDX07  182.0950           732.3800   \n",
       "4          Low Fat           NCD19   53.8614           994.7052   \n",
       "\n",
       "               Item_Type  Item_Visibility  Item_Weight  \\\n",
       "0                  Dairy         0.016047         9.30   \n",
       "1            Soft Drinks         0.019278         5.92   \n",
       "2                   Meat         0.016760        17.50   \n",
       "3  Fruits and Vegetables         0.000000        19.20   \n",
       "4              Household         0.000000         8.93   \n",
       "\n",
       "   Outlet_Establishment_Year Outlet_Identifier Outlet_Location_Type  \\\n",
       "0                       1999            OUT049               Tier 1   \n",
       "1                       2009            OUT018               Tier 3   \n",
       "2                       1999            OUT049               Tier 1   \n",
       "3                       1998            OUT010               Tier 3   \n",
       "4                       1987            OUT013               Tier 3   \n",
       "\n",
       "  Outlet_Size        Outlet_Type  \n",
       "0      Medium  Supermarket Type1  \n",
       "1      Medium  Supermarket Type2  \n",
       "2      Medium  Supermarket Type1  \n",
       "3      Medium      Grocery Store  \n",
       "4        High  Supermarket Type1  "
      ]
     },
     "execution_count": 228,
     "metadata": {},
     "output_type": "execute_result"
    }
   ],
   "source": [
    "data.head()"
   ]
  },
  {
   "cell_type": "code",
   "execution_count": 229,
   "metadata": {},
   "outputs": [
    {
     "name": "stdout",
     "output_type": "stream",
     "text": [
      "<class 'pandas.core.frame.DataFrame'>\n",
      "RangeIndex: 14204 entries, 0 to 14203\n",
      "Data columns (total 12 columns):\n",
      "Item_Fat_Content             14204 non-null object\n",
      "Item_Identifier              14204 non-null object\n",
      "Item_MRP                     14204 non-null float64\n",
      "Item_Outlet_Sales            8523 non-null float64\n",
      "Item_Type                    14204 non-null object\n",
      "Item_Visibility              14204 non-null float64\n",
      "Item_Weight                  14204 non-null float64\n",
      "Outlet_Establishment_Year    14204 non-null int64\n",
      "Outlet_Identifier            14204 non-null object\n",
      "Outlet_Location_Type         14204 non-null object\n",
      "Outlet_Size                  14204 non-null object\n",
      "Outlet_Type                  14204 non-null object\n",
      "dtypes: float64(4), int64(1), object(7)\n",
      "memory usage: 1.3+ MB\n"
     ]
    }
   ],
   "source": [
    "data.info()"
   ]
  },
  {
   "cell_type": "code",
   "execution_count": 230,
   "metadata": {},
   "outputs": [
    {
     "data": {
      "text/plain": [
       "Index(['Item_MRP', 'Item_Outlet_Sales', 'Item_Visibility', 'Item_Weight',\n",
       "       'Outlet_Establishment_Year'],\n",
       "      dtype='object')"
      ]
     },
     "execution_count": 230,
     "metadata": {},
     "output_type": "execute_result"
    }
   ],
   "source": [
    "numerical_feats\n"
   ]
  },
  {
   "cell_type": "code",
   "execution_count": 231,
   "metadata": {},
   "outputs": [
    {
     "data": {
      "text/plain": [
       "Index(['Item_Fat_Content', 'Item_Identifier', 'Item_Type', 'Outlet_Identifier',\n",
       "       'Outlet_Location_Type', 'Outlet_Size', 'Outlet_Type'],\n",
       "      dtype='object')"
      ]
     },
     "execution_count": 231,
     "metadata": {},
     "output_type": "execute_result"
    }
   ],
   "source": [
    "categorical_feats"
   ]
  },
  {
   "cell_type": "markdown",
   "metadata": {},
   "source": [
    "## Univariate analysis"
   ]
  },
  {
   "cell_type": "markdown",
   "metadata": {},
   "source": [
    "\n",
    "categorical features('Item_Fat_Content', 'Item_Type',\n",
    "       'Outlet_Location_Type', 'Outlet_Size', 'Outlet_Type')"
   ]
  },
  {
   "cell_type": "code",
   "execution_count": 232,
   "metadata": {},
   "outputs": [
    {
     "name": "stdout",
     "output_type": "stream",
     "text": [
      "Low Fat    0.597367\n",
      "Regular    0.339623\n",
      "LF         0.036750\n",
      "reg        0.013729\n",
      "low fat    0.012532\n",
      "Name: Item_Fat_Content, dtype: float64\n"
     ]
    },
    {
     "data": {
      "text/plain": [
       "Text(0.5,1,'Frequancy for Item_Fat_Content')"
      ]
     },
     "execution_count": 232,
     "metadata": {},
     "output_type": "execute_result"
    },
    {
     "data": {
      "image/png": "[encoded data removed]",
      "text/plain": [
       "<Figure size 432x288 with 1 Axes>"
      ]
     },
     "metadata": {},
     "output_type": "display_data"
    }
   ],
   "source": [
    "#item_fat_content\n",
    "print(data['Item_Fat_Content'].value_counts(normalize=True))\n",
    "sns.countplot(x='Item_Fat_Content',data=data)\n",
    "plt.title('Frequancy for Item_Fat_Content')\n"
   ]
  },
  {
   "cell_type": "code",
   "execution_count": 233,
   "metadata": {},
   "outputs": [
    {
     "name": "stdout",
     "output_type": "stream",
     "text": [
      "Fruits and Vegetables    0.141721\n",
      "Snack Foods              0.140031\n",
      "Household                0.108983\n",
      "Frozen Foods             0.100394\n",
      "Dairy                    0.079977\n",
      "Baking Goods             0.076457\n",
      "Canned                   0.076317\n",
      "Health and Hygiene       0.060406\n",
      "Meat                     0.051816\n",
      "Soft Drinks              0.051112\n",
      "Breads                   0.029288\n",
      "Hard Drinks              0.025486\n",
      "Others                   0.019713\n",
      "Starchy Foods            0.018938\n",
      "Breakfast                0.013095\n",
      "Seafood                  0.006266\n",
      "Name: Item_Type, dtype: float64\n"
     ]
    },
    {
     "data": {
      "text/plain": [
       "Text(0.5,1,'Frequancy for Item_Type')"
      ]
     },
     "execution_count": 233,
     "metadata": {},
     "output_type": "execute_result"
    },
    {
     "data": {
      "image/png": "[encoded data removed]",
      "text/plain": [
       "<Figure size 432x288 with 1 Axes>"
      ]
     },
     "metadata": {},
     "output_type": "display_data"
    }
   ],
   "source": [
    "#Item_Type\n",
    "print(data['Item_Type'].value_counts(normalize=True))\n",
    "sns.countplot(x='Item_Type',data=data)\n",
    "plt.xticks(rotation='90')\n",
    "plt.title('Frequancy for Item_Type')"
   ]
  },
  {
   "cell_type": "code",
   "execution_count": 234,
   "metadata": {},
   "outputs": [
    {
     "name": "stdout",
     "output_type": "stream",
     "text": [
      "Supermarket Type1    0.654323\n",
      "Grocery Store        0.127077\n",
      "Supermarket Type3    0.109758\n",
      "Supermarket Type2    0.108843\n",
      "Name: Outlet_Type, dtype: float64\n"
     ]
    },
    {
     "data": {
      "text/plain": [
       "Text(0.5,1,'Frequancy for Outlet_Type')"
      ]
     },
     "execution_count": 234,
     "metadata": {},
     "output_type": "execute_result"
    },
    {
     "data": {
      "image/png": "[encoded data removed]",
      "text/plain": [
       "<Figure size 432x288 with 1 Axes>"
      ]
     },
     "metadata": {},
     "output_type": "display_data"
    }
   ],
   "source": [
    "#Outlet_Type\n",
    "print(data['Outlet_Type'].value_counts(normalize=True))\n",
    "sns.countplot(x='Outlet_Type',data=data)\n",
    "plt.xticks(rotation='90')\n",
    "plt.title('Frequancy for Outlet_Type')"
   ]
  },
  {
   "cell_type": "code",
   "execution_count": 235,
   "metadata": {},
   "outputs": [
    {
     "name": "stdout",
     "output_type": "stream",
     "text": [
      "Tier 3    0.393058\n",
      "Tier 2    0.326739\n",
      "Tier 1    0.280203\n",
      "Name: Outlet_Location_Type, dtype: float64\n"
     ]
    },
    {
     "data": {
      "text/plain": [
       "Text(0.5,1,'Frequancy for Outlet_Location_Type')"
      ]
     },
     "execution_count": 235,
     "metadata": {},
     "output_type": "execute_result"
    },
    {
     "data": {
      "image/png": "[encoded data removed]",
      "text/plain": [
       "<Figure size 432x288 with 1 Axes>"
      ]
     },
     "metadata": {},
     "output_type": "display_data"
    }
   ],
   "source": [
    "#Item_Type\n",
    "print(data['Outlet_Location_Type'].value_counts(normalize=True))\n",
    "sns.countplot(x='Outlet_Location_Type',data=data)\n",
    "plt.title('Frequancy for Outlet_Location_Type')"
   ]
  },
  {
   "cell_type": "code",
   "execution_count": 236,
   "metadata": {},
   "outputs": [
    {
     "name": "stdout",
     "output_type": "stream",
     "text": [
      "Medium    0.610462\n",
      "Small     0.280203\n",
      "High      0.109335\n",
      "Name: Outlet_Size, dtype: float64\n"
     ]
    },
    {
     "data": {
      "text/plain": [
       "Text(0.5,1,'Frequancy for Outlet_Size')"
      ]
     },
     "execution_count": 236,
     "metadata": {},
     "output_type": "execute_result"
    },
    {
     "data": {
      "image/png": "[encoded data removed]",
      "text/plain": [
       "<Figure size 432x288 with 1 Axes>"
      ]
     },
     "metadata": {},
     "output_type": "display_data"
    }
   ],
   "source": [
    "#Outlet_Size\n",
    "print(data['Outlet_Size'].value_counts(normalize=True))\n",
    "sns.countplot(x='Outlet_Size',data=data)\n",
    "plt.title('Frequancy for Outlet_Size')"
   ]
  },
  {
   "cell_type": "markdown",
   "metadata": {},
   "source": [
    "univariate analysis for numerical features(Item_MRP', 'Item_Visibility', 'Item_Weight',\n",
    "       'Outlet_Establishment_Year')"
   ]
  },
  {
   "cell_type": "code",
   "execution_count": 237,
   "metadata": {},
   "outputs": [
    {
     "name": "stdout",
     "output_type": "stream",
     "text": [
      "count    14204.000000\n",
      "mean       141.004977\n",
      "std         62.086938\n",
      "min         31.290000\n",
      "25%         94.012000\n",
      "50%        142.247000\n",
      "75%        185.855600\n",
      "max        266.888400\n",
      "Name: Item_MRP, dtype: float64\n",
      "\n",
      "Skewness 0.13072836040225863\n",
      "Kurtosis -0.8938560053756124\n"
     ]
    },
    {
     "data": {
      "text/plain": [
       "Text(0,0.5,'Frequancy')"
      ]
     },
     "execution_count": 237,
     "metadata": {},
     "output_type": "execute_result"
    },
    {
     "data": {
      "image/png": "[encoded data removed]",
      "text/plain": [
       "<Figure size 432x288 with 1 Axes>"
      ]
     },
     "metadata": {},
     "output_type": "display_data"
    }
   ],
   "source": [
    "#Item_MRP\n",
    "print(data['Item_MRP'].describe())\n",
    "print('\\nSkewness {}'.format(data['Item_MRP'].skew()))\n",
    "print('Kurtosis {}'.format(data['Item_MRP'].kurt()))\n",
    "sns.distplot(data['Item_MRP'],fit=norm) #unimodal distribution\n",
    "mu,sigma = norm.fit(data['Item_MRP'])\n",
    "plt.legend(['Normal dist.($\\mu$ = {0:.2f} and $\\sigma$ = {1:.2f})'.format(mu,sigma)],loc='best')\n",
    "plt.title('Item_MRP distribution')\n",
    "plt.ylabel('Frequancy')"
   ]
  },
  {
   "cell_type": "code",
   "execution_count": 238,
   "metadata": {},
   "outputs": [
    {
     "name": "stdout",
     "output_type": "stream",
     "text": [
      "count    14204.000000\n",
      "mean        12.792854\n",
      "std          4.234226\n",
      "min          4.555000\n",
      "25%          9.300000\n",
      "50%         12.792854\n",
      "75%         16.000000\n",
      "max         21.350000\n",
      "Name: Item_Weight, dtype: float64\n",
      "\n",
      "Skewness 0.11131389957012323\n",
      "Kurtosis -0.8606263426534593\n"
     ]
    },
    {
     "data": {
      "text/plain": [
       "Text(0,0.5,'Frequancy')"
      ]
     },
     "execution_count": 238,
     "metadata": {},
     "output_type": "execute_result"
    },
    {
     "data": {
      "image/png": "[encoded data removed]",
      "text/plain": [
       "<Figure size 432x288 with 1 Axes>"
      ]
     },
     "metadata": {},
     "output_type": "display_data"
    }
   ],
   "source": [
    "#Item_Weight\n",
    "print(data['Item_Weight'].describe())\n",
    "print('\\nSkewness {}'.format(data['Item_Weight'].skew()))\n",
    "print('Kurtosis {}'.format(data['Item_Weight'].kurt()))\n",
    "sns.distplot(data['Item_Weight'],fit=norm) \n",
    "mu,sigma = norm.fit(data['Item_Weight'])\n",
    "plt.legend(['Normal dist.($\\mu$ = {0:.2f} and $\\sigma$ = {1:.2f})'.format(mu,sigma)],loc='best')\n",
    "plt.title('Item_Weight distribution')\n",
    "plt.ylabel('Frequancy')"
   ]
  },
  {
   "cell_type": "code",
   "execution_count": 239,
   "metadata": {},
   "outputs": [
    {
     "name": "stdout",
     "output_type": "stream",
     "text": [
      "count    14204.000000\n",
      "mean      1997.830681\n",
      "std          8.371664\n",
      "min       1985.000000\n",
      "25%       1987.000000\n",
      "50%       1999.000000\n",
      "75%       2004.000000\n",
      "max       2009.000000\n",
      "Name: Outlet_Establishment_Year, dtype: float64\n",
      "\n",
      "Skewness -0.39646519008637443\n",
      "Kurtosis -1.2058671747532432\n"
     ]
    },
    {
     "data": {
      "text/plain": [
       "Text(0,0.5,'Frequancy')"
      ]
     },
     "execution_count": 239,
     "metadata": {},
     "output_type": "execute_result"
    },
    {
     "data": {
      "image/png": "[encoded data removed]",
      "text/plain": [
       "<Figure size 432x288 with 1 Axes>"
      ]
     },
     "metadata": {},
     "output_type": "display_data"
    }
   ],
   "source": [
    "#Outlet_Establishment_Year\n",
    "print(data['Outlet_Establishment_Year'].describe())\n",
    "print('\\nSkewness {}'.format(data['Outlet_Establishment_Year'].skew()))\n",
    "print('Kurtosis {}'.format(data['Outlet_Establishment_Year'].kurt()))\n",
    "sns.distplot(data['Outlet_Establishment_Year'],fit=norm) #unimodal distribution\n",
    "mu,sigma = norm.fit(data['Outlet_Establishment_Year'])\n",
    "plt.legend(['Normal dist.($\\mu$ = {0:.2f} and $\\sigma$ = {1:.2f})'.format(mu,sigma)],loc='best')\n",
    "plt.title('Outlet_Establishment_Year distribution')\n",
    "plt.ylabel('Frequancy')"
   ]
  },
  {
   "cell_type": "code",
   "execution_count": 240,
   "metadata": {},
   "outputs": [
    {
     "name": "stdout",
     "output_type": "stream",
     "text": [
      "count    14204.000000\n",
      "mean         0.065953\n",
      "std          0.051459\n",
      "min          0.000000\n",
      "25%          0.027036\n",
      "50%          0.054021\n",
      "75%          0.094037\n",
      "max          0.328391\n",
      "Name: Item_Visibility, dtype: float64\n",
      "\n",
      "Skewness 1.1951751774587889\n",
      "Kurtosis 1.8200714679841465\n"
     ]
    },
    {
     "data": {
      "text/plain": [
       "Text(0,0.5,'Frequancy')"
      ]
     },
     "execution_count": 240,
     "metadata": {},
     "output_type": "execute_result"
    },
    {
     "data": {
      "image/png": "[encoded data removed]",
      "text/plain": [
       "<Figure size 432x288 with 1 Axes>"
      ]
     },
     "metadata": {},
     "output_type": "display_data"
    }
   ],
   "source": [
    "#Item_Visibility\n",
    "print(data['Item_Visibility'].describe())\n",
    "print('\\nSkewness {}'.format(data['Item_Visibility'].skew()))\n",
    "print('Kurtosis {}'.format(data['Item_Visibility'].kurt()))\n",
    "sns.distplot(data['Item_Visibility'],fit=norm) #binomial distribution\n",
    "mu,sigma = norm.fit(data['Item_Visibility'])\n",
    "plt.legend(['Normal dist.($\\mu$ = {0:.2f} and $\\sigma$ = {1:.2f})'.format(mu,sigma)],loc='best')\n",
    "plt.title('Item_Visibility distribution')\n",
    "plt.ylabel('Frequancy')"
   ]
  },
  {
   "cell_type": "markdown",
   "metadata": {},
   "source": [
    "## Target Varible analysis"
   ]
  },
  {
   "cell_type": "code",
   "execution_count": 241,
   "metadata": {},
   "outputs": [
    {
     "name": "stdout",
     "output_type": "stream",
     "text": [
      "Skewness : 1.178\n",
      "Kurtosis: 1.616\n"
     ]
    },
    {
     "data": {
      "image/png": "[encoded data removed]",
      "text/plain": [
       "<Figure size 432x288 with 1 Axes>"
      ]
     },
     "metadata": {},
     "output_type": "display_data"
    },
    {
     "data": {
      "image/png": "[encoded data removed]",
      "text/plain": [
       "<Figure size 432x288 with 1 Axes>"
      ]
     },
     "metadata": {},
     "output_type": "display_data"
    }
   ],
   "source": [
    "sns.distplot(a=y_train,fit=norm)\n",
    "print(\"Skewness : %.3f\"%(y_train.skew()))\n",
    "print(\"Kurtosis: %.3f\"%(y_train.kurt()))\n",
    "plt.ylabel(\"Frequancy\")\n",
    "plt.title(\"Item_Outlet_Sales Distribution\")\n",
    "(mu,sigma) = norm.fit(y_train)\n",
    "plt.legend(['Normal dist. ($\\mu=$ {:.2f} and $\\sigma=$ {:.2f} )'.format(mu, sigma)],loc='best')\n",
    "plt.show()\n",
    "stats.probplot(x=y_train,plot=plt)\n",
    "plt.show()"
   ]
  },
  {
   "cell_type": "markdown",
   "metadata": {},
   "source": [
    "output feature is right skwed therfore, applying log transformation\n"
   ]
  },
  {
   "cell_type": "code",
   "execution_count": 242,
   "metadata": {},
   "outputs": [
    {
     "name": "stdout",
     "output_type": "stream",
     "text": [
      "Skewness : -0.882\n",
      "Kurtosis: 0.533\n"
     ]
    },
    {
     "data": {
      "image/png": "[encoded data removed]",
      "text/plain": [
       "<Figure size 432x288 with 1 Axes>"
      ]
     },
     "metadata": {},
     "output_type": "display_data"
    },
    {
     "data": {
      "image/png": "[encoded data removed]",
      "text/plain": [
       "<Figure size 432x288 with 1 Axes>"
      ]
     },
     "metadata": {},
     "output_type": "display_data"
    }
   ],
   "source": [
    "y_log_sales = np.log1p(y_train) #Log transformation\n",
    "sns.distplot(a=y_log_sales,fit=norm)\n",
    "print(\"Skewness : %.3f\"%(y_log_sales.skew()))\n",
    "print(\"Kurtosis: %.3f\"%(y_log_sales.kurt()))\n",
    "plt.ylabel(\"Frequancy\")\n",
    "plt.legend(['Normal dist. ($\\mu=$ {:.2f} and $\\sigma=$ {:.2f} )'.format(mu, sigma)],loc='best')\n",
    "plt.title(\"Item_Outlet_Sales Distribution\")\n",
    "(mu,sigma) = norm.fit(y_log_sales)\n",
    "plt.show()\n",
    "stats.probplot(x=y_log_sales,plot=plt)\n",
    "plt.show()"
   ]
  },
  {
   "cell_type": "code",
   "execution_count": 243,
   "metadata": {},
   "outputs": [
    {
     "data": {
      "text/plain": [
       "(array([ 0,  1,  2,  3,  4,  5,  6,  7,  8,  9, 10, 11, 12, 13, 14, 15]),\n",
       " <a list of 16 Text xticklabel objects>)"
      ]
     },
     "execution_count": 243,
     "metadata": {},
     "output_type": "execute_result"
    },
    {
     "data": {
      "image/png": "[encoded data removed]",
      "text/plain": [
       "<Figure size 360x360 with 1 Axes>"
      ]
     },
     "metadata": {},
     "output_type": "display_data"
    }
   ],
   "source": [
    "#Categorical to numerical\n",
    "sns.factorplot(x='Item_Type',y='Item_MRP',data=data,kind='bar')\n",
    "plt.xticks(rotation='90')"
   ]
  },
  {
   "cell_type": "code",
   "execution_count": 244,
   "metadata": {},
   "outputs": [
    {
     "data": {
      "text/html": [
       "<div>\n",
       "<style scoped>\n",
       "    .dataframe tbody tr th:only-of-type {\n",
       "        vertical-align: middle;\n",
       "    }\n",
       "\n",
       "    .dataframe tbody tr th {\n",
       "        vertical-align: top;\n",
       "    }\n",
       "\n",
       "    .dataframe thead tr th {\n",
       "        text-align: left;\n",
       "    }\n",
       "\n",
       "    .dataframe thead tr:last-of-type th {\n",
       "        text-align: right;\n",
       "    }\n",
       "</style>\n",
       "<table border=\"1\" class=\"dataframe\">\n",
       "  <thead>\n",
       "    <tr>\n",
       "      <th></th>\n",
       "      <th colspan=\"8\" halign=\"left\">Item_MRP</th>\n",
       "      <th colspan=\"2\" halign=\"left\">Item_Outlet_Sales</th>\n",
       "      <th>...</th>\n",
       "      <th colspan=\"2\" halign=\"left\">Item_Weight</th>\n",
       "      <th colspan=\"8\" halign=\"left\">Outlet_Establishment_Year</th>\n",
       "    </tr>\n",
       "    <tr>\n",
       "      <th></th>\n",
       "      <th>count</th>\n",
       "      <th>mean</th>\n",
       "      <th>std</th>\n",
       "      <th>min</th>\n",
       "      <th>25%</th>\n",
       "      <th>50%</th>\n",
       "      <th>75%</th>\n",
       "      <th>max</th>\n",
       "      <th>count</th>\n",
       "      <th>mean</th>\n",
       "      <th>...</th>\n",
       "      <th>75%</th>\n",
       "      <th>max</th>\n",
       "      <th>count</th>\n",
       "      <th>mean</th>\n",
       "      <th>std</th>\n",
       "      <th>min</th>\n",
       "      <th>25%</th>\n",
       "      <th>50%</th>\n",
       "      <th>75%</th>\n",
       "      <th>max</th>\n",
       "    </tr>\n",
       "    <tr>\n",
       "      <th>Item_Type</th>\n",
       "      <th></th>\n",
       "      <th></th>\n",
       "      <th></th>\n",
       "      <th></th>\n",
       "      <th></th>\n",
       "      <th></th>\n",
       "      <th></th>\n",
       "      <th></th>\n",
       "      <th></th>\n",
       "      <th></th>\n",
       "      <th></th>\n",
       "      <th></th>\n",
       "      <th></th>\n",
       "      <th></th>\n",
       "      <th></th>\n",
       "      <th></th>\n",
       "      <th></th>\n",
       "      <th></th>\n",
       "      <th></th>\n",
       "      <th></th>\n",
       "      <th></th>\n",
       "    </tr>\n",
       "  </thead>\n",
       "  <tbody>\n",
       "    <tr>\n",
       "      <th>Baking Goods</th>\n",
       "      <td>1086.0</td>\n",
       "      <td>127.458237</td>\n",
       "      <td>57.300836</td>\n",
       "      <td>33.4874</td>\n",
       "      <td>86.47835</td>\n",
       "      <td>117.4124</td>\n",
       "      <td>172.01720</td>\n",
       "      <td>265.5568</td>\n",
       "      <td>648.0</td>\n",
       "      <td>1952.971207</td>\n",
       "      <td>...</td>\n",
       "      <td>15.1500</td>\n",
       "      <td>20.85</td>\n",
       "      <td>1086.0</td>\n",
       "      <td>1997.825967</td>\n",
       "      <td>8.371232</td>\n",
       "      <td>1985.0</td>\n",
       "      <td>1987.0</td>\n",
       "      <td>1999.0</td>\n",
       "      <td>2004.0</td>\n",
       "      <td>2009.0</td>\n",
       "    </tr>\n",
       "    <tr>\n",
       "      <th>Breads</th>\n",
       "      <td>416.0</td>\n",
       "      <td>141.389849</td>\n",
       "      <td>63.190637</td>\n",
       "      <td>31.9558</td>\n",
       "      <td>93.81860</td>\n",
       "      <td>130.1152</td>\n",
       "      <td>193.22940</td>\n",
       "      <td>263.6594</td>\n",
       "      <td>251.0</td>\n",
       "      <td>2204.132226</td>\n",
       "      <td>...</td>\n",
       "      <td>13.6500</td>\n",
       "      <td>20.85</td>\n",
       "      <td>416.0</td>\n",
       "      <td>1997.754808</td>\n",
       "      <td>8.387453</td>\n",
       "      <td>1985.0</td>\n",
       "      <td>1987.0</td>\n",
       "      <td>1999.0</td>\n",
       "      <td>2004.0</td>\n",
       "      <td>2009.0</td>\n",
       "    </tr>\n",
       "    <tr>\n",
       "      <th>Breakfast</th>\n",
       "      <td>186.0</td>\n",
       "      <td>137.985444</td>\n",
       "      <td>56.218724</td>\n",
       "      <td>38.2480</td>\n",
       "      <td>99.03580</td>\n",
       "      <td>152.4682</td>\n",
       "      <td>176.53700</td>\n",
       "      <td>234.9300</td>\n",
       "      <td>110.0</td>\n",
       "      <td>2111.808651</td>\n",
       "      <td>...</td>\n",
       "      <td>17.0625</td>\n",
       "      <td>21.10</td>\n",
       "      <td>186.0</td>\n",
       "      <td>1997.666667</td>\n",
       "      <td>8.467851</td>\n",
       "      <td>1985.0</td>\n",
       "      <td>1987.0</td>\n",
       "      <td>1999.0</td>\n",
       "      <td>2004.0</td>\n",
       "      <td>2009.0</td>\n",
       "    </tr>\n",
       "    <tr>\n",
       "      <th>Canned</th>\n",
       "      <td>1084.0</td>\n",
       "      <td>138.620936</td>\n",
       "      <td>60.162335</td>\n",
       "      <td>35.9506</td>\n",
       "      <td>89.71655</td>\n",
       "      <td>133.2942</td>\n",
       "      <td>184.10095</td>\n",
       "      <td>266.8884</td>\n",
       "      <td>649.0</td>\n",
       "      <td>2225.194904</td>\n",
       "      <td>...</td>\n",
       "      <td>15.7000</td>\n",
       "      <td>21.35</td>\n",
       "      <td>1084.0</td>\n",
       "      <td>1997.854244</td>\n",
       "      <td>8.379997</td>\n",
       "      <td>1985.0</td>\n",
       "      <td>1987.0</td>\n",
       "      <td>1999.0</td>\n",
       "      <td>2004.0</td>\n",
       "      <td>2009.0</td>\n",
       "    </tr>\n",
       "    <tr>\n",
       "      <th>Dairy</th>\n",
       "      <td>1136.0</td>\n",
       "      <td>147.230998</td>\n",
       "      <td>70.178385</td>\n",
       "      <td>33.2874</td>\n",
       "      <td>87.94415</td>\n",
       "      <td>146.4273</td>\n",
       "      <td>210.24940</td>\n",
       "      <td>266.6884</td>\n",
       "      <td>682.0</td>\n",
       "      <td>2232.542597</td>\n",
       "      <td>...</td>\n",
       "      <td>16.7000</td>\n",
       "      <td>20.70</td>\n",
       "      <td>1136.0</td>\n",
       "      <td>1997.853873</td>\n",
       "      <td>8.383734</td>\n",
       "      <td>1985.0</td>\n",
       "      <td>1987.0</td>\n",
       "      <td>1999.0</td>\n",
       "      <td>2004.0</td>\n",
       "      <td>2009.0</td>\n",
       "    </tr>\n",
       "    <tr>\n",
       "      <th>Frozen Foods</th>\n",
       "      <td>1426.0</td>\n",
       "      <td>136.467385</td>\n",
       "      <td>66.597339</td>\n",
       "      <td>31.9558</td>\n",
       "      <td>82.90065</td>\n",
       "      <td>126.1520</td>\n",
       "      <td>188.84770</td>\n",
       "      <td>264.8910</td>\n",
       "      <td>856.0</td>\n",
       "      <td>2132.867744</td>\n",
       "      <td>...</td>\n",
       "      <td>15.7000</td>\n",
       "      <td>20.85</td>\n",
       "      <td>1426.0</td>\n",
       "      <td>1997.767181</td>\n",
       "      <td>8.403788</td>\n",
       "      <td>1985.0</td>\n",
       "      <td>1987.0</td>\n",
       "      <td>1999.0</td>\n",
       "      <td>2004.0</td>\n",
       "      <td>2009.0</td>\n",
       "    </tr>\n",
       "    <tr>\n",
       "      <th>Fruits and Vegetables</th>\n",
       "      <td>2013.0</td>\n",
       "      <td>144.304237</td>\n",
       "      <td>59.221923</td>\n",
       "      <td>34.8190</td>\n",
       "      <td>99.90160</td>\n",
       "      <td>145.1418</td>\n",
       "      <td>188.08720</td>\n",
       "      <td>264.2252</td>\n",
       "      <td>1232.0</td>\n",
       "      <td>2289.009592</td>\n",
       "      <td>...</td>\n",
       "      <td>16.2500</td>\n",
       "      <td>21.35</td>\n",
       "      <td>2013.0</td>\n",
       "      <td>1997.806756</td>\n",
       "      <td>8.363743</td>\n",
       "      <td>1985.0</td>\n",
       "      <td>1987.0</td>\n",
       "      <td>1999.0</td>\n",
       "      <td>2004.0</td>\n",
       "      <td>2009.0</td>\n",
       "    </tr>\n",
       "    <tr>\n",
       "      <th>Hard Drinks</th>\n",
       "      <td>362.0</td>\n",
       "      <td>137.295031</td>\n",
       "      <td>65.780697</td>\n",
       "      <td>34.2532</td>\n",
       "      <td>74.87880</td>\n",
       "      <td>144.3628</td>\n",
       "      <td>179.10810</td>\n",
       "      <td>261.8278</td>\n",
       "      <td>214.0</td>\n",
       "      <td>2139.221622</td>\n",
       "      <td>...</td>\n",
       "      <td>14.6500</td>\n",
       "      <td>19.70</td>\n",
       "      <td>362.0</td>\n",
       "      <td>1997.953039</td>\n",
       "      <td>8.309825</td>\n",
       "      <td>1985.0</td>\n",
       "      <td>1987.0</td>\n",
       "      <td>1999.0</td>\n",
       "      <td>2004.0</td>\n",
       "      <td>2009.0</td>\n",
       "    </tr>\n",
       "    <tr>\n",
       "      <th>Health and Hygiene</th>\n",
       "      <td>858.0</td>\n",
       "      <td>133.108079</td>\n",
       "      <td>59.799825</td>\n",
       "      <td>32.8216</td>\n",
       "      <td>96.66535</td>\n",
       "      <td>129.6468</td>\n",
       "      <td>165.75130</td>\n",
       "      <td>266.6884</td>\n",
       "      <td>520.0</td>\n",
       "      <td>2010.000265</td>\n",
       "      <td>...</td>\n",
       "      <td>16.6000</td>\n",
       "      <td>21.25</td>\n",
       "      <td>858.0</td>\n",
       "      <td>1997.785548</td>\n",
       "      <td>8.365383</td>\n",
       "      <td>1985.0</td>\n",
       "      <td>1987.0</td>\n",
       "      <td>1999.0</td>\n",
       "      <td>2004.0</td>\n",
       "      <td>2009.0</td>\n",
       "    </tr>\n",
       "    <tr>\n",
       "      <th>Household</th>\n",
       "      <td>1548.0</td>\n",
       "      <td>148.736501</td>\n",
       "      <td>62.545452</td>\n",
       "      <td>31.9900</td>\n",
       "      <td>106.52140</td>\n",
       "      <td>152.5024</td>\n",
       "      <td>191.10300</td>\n",
       "      <td>264.7910</td>\n",
       "      <td>910.0</td>\n",
       "      <td>2258.784300</td>\n",
       "      <td>...</td>\n",
       "      <td>17.1000</td>\n",
       "      <td>21.25</td>\n",
       "      <td>1548.0</td>\n",
       "      <td>1997.867571</td>\n",
       "      <td>8.351747</td>\n",
       "      <td>1985.0</td>\n",
       "      <td>1987.0</td>\n",
       "      <td>1999.0</td>\n",
       "      <td>2004.0</td>\n",
       "      <td>2009.0</td>\n",
       "    </tr>\n",
       "    <tr>\n",
       "      <th>Meat</th>\n",
       "      <td>736.0</td>\n",
       "      <td>140.291141</td>\n",
       "      <td>59.003779</td>\n",
       "      <td>34.5532</td>\n",
       "      <td>98.55420</td>\n",
       "      <td>142.6312</td>\n",
       "      <td>184.48710</td>\n",
       "      <td>261.5936</td>\n",
       "      <td>425.0</td>\n",
       "      <td>2158.977911</td>\n",
       "      <td>...</td>\n",
       "      <td>15.7000</td>\n",
       "      <td>21.25</td>\n",
       "      <td>736.0</td>\n",
       "      <td>1997.748641</td>\n",
       "      <td>8.383211</td>\n",
       "      <td>1985.0</td>\n",
       "      <td>1987.0</td>\n",
       "      <td>1999.0</td>\n",
       "      <td>2004.0</td>\n",
       "      <td>2009.0</td>\n",
       "    </tr>\n",
       "    <tr>\n",
       "      <th>Others</th>\n",
       "      <td>280.0</td>\n",
       "      <td>133.745047</td>\n",
       "      <td>60.733972</td>\n",
       "      <td>34.8190</td>\n",
       "      <td>83.99080</td>\n",
       "      <td>132.3284</td>\n",
       "      <td>183.84370</td>\n",
       "      <td>254.9040</td>\n",
       "      <td>169.0</td>\n",
       "      <td>1926.139702</td>\n",
       "      <td>...</td>\n",
       "      <td>16.3500</td>\n",
       "      <td>20.50</td>\n",
       "      <td>280.0</td>\n",
       "      <td>1997.621429</td>\n",
       "      <td>8.478916</td>\n",
       "      <td>1985.0</td>\n",
       "      <td>1987.0</td>\n",
       "      <td>1999.0</td>\n",
       "      <td>2004.0</td>\n",
       "      <td>2009.0</td>\n",
       "    </tr>\n",
       "    <tr>\n",
       "      <th>Seafood</th>\n",
       "      <td>89.0</td>\n",
       "      <td>141.288751</td>\n",
       "      <td>60.200329</td>\n",
       "      <td>33.7216</td>\n",
       "      <td>108.45960</td>\n",
       "      <td>156.9604</td>\n",
       "      <td>185.05820</td>\n",
       "      <td>240.4880</td>\n",
       "      <td>64.0</td>\n",
       "      <td>2326.065928</td>\n",
       "      <td>...</td>\n",
       "      <td>17.3500</td>\n",
       "      <td>20.75</td>\n",
       "      <td>89.0</td>\n",
       "      <td>1997.696629</td>\n",
       "      <td>8.517902</td>\n",
       "      <td>1985.0</td>\n",
       "      <td>1987.0</td>\n",
       "      <td>1999.0</td>\n",
       "      <td>2004.0</td>\n",
       "      <td>2009.0</td>\n",
       "    </tr>\n",
       "    <tr>\n",
       "      <th>Snack Foods</th>\n",
       "      <td>1989.0</td>\n",
       "      <td>146.460309</td>\n",
       "      <td>59.554434</td>\n",
       "      <td>32.3558</td>\n",
       "      <td>104.96220</td>\n",
       "      <td>147.4760</td>\n",
       "      <td>186.98980</td>\n",
       "      <td>265.0568</td>\n",
       "      <td>1200.0</td>\n",
       "      <td>2277.321739</td>\n",
       "      <td>...</td>\n",
       "      <td>15.8500</td>\n",
       "      <td>21.25</td>\n",
       "      <td>1989.0</td>\n",
       "      <td>1997.889894</td>\n",
       "      <td>8.374559</td>\n",
       "      <td>1985.0</td>\n",
       "      <td>1987.0</td>\n",
       "      <td>1999.0</td>\n",
       "      <td>2004.0</td>\n",
       "      <td>2009.0</td>\n",
       "    </tr>\n",
       "    <tr>\n",
       "      <th>Soft Drinks</th>\n",
       "      <td>726.0</td>\n",
       "      <td>135.403726</td>\n",
       "      <td>60.552403</td>\n",
       "      <td>31.2900</td>\n",
       "      <td>85.31320</td>\n",
       "      <td>145.2286</td>\n",
       "      <td>184.72530</td>\n",
       "      <td>263.5910</td>\n",
       "      <td>445.0</td>\n",
       "      <td>2006.511735</td>\n",
       "      <td>...</td>\n",
       "      <td>15.1500</td>\n",
       "      <td>20.75</td>\n",
       "      <td>726.0</td>\n",
       "      <td>1997.878788</td>\n",
       "      <td>8.379230</td>\n",
       "      <td>1985.0</td>\n",
       "      <td>1987.0</td>\n",
       "      <td>1999.0</td>\n",
       "      <td>2004.0</td>\n",
       "      <td>2009.0</td>\n",
       "    </tr>\n",
       "    <tr>\n",
       "      <th>Starchy Foods</th>\n",
       "      <td>269.0</td>\n",
       "      <td>149.751917</td>\n",
       "      <td>66.716959</td>\n",
       "      <td>34.0532</td>\n",
       "      <td>92.68040</td>\n",
       "      <td>168.6158</td>\n",
       "      <td>194.08200</td>\n",
       "      <td>263.6252</td>\n",
       "      <td>148.0</td>\n",
       "      <td>2374.332773</td>\n",
       "      <td>...</td>\n",
       "      <td>16.7000</td>\n",
       "      <td>21.20</td>\n",
       "      <td>269.0</td>\n",
       "      <td>1998.089219</td>\n",
       "      <td>8.287254</td>\n",
       "      <td>1985.0</td>\n",
       "      <td>1987.0</td>\n",
       "      <td>1999.0</td>\n",
       "      <td>2004.0</td>\n",
       "      <td>2009.0</td>\n",
       "    </tr>\n",
       "  </tbody>\n",
       "</table>\n",
       "<p>16 rows × 40 columns</p>\n",
       "</div>"
      ],
      "text/plain": [
       "                      Item_MRP                                             \\\n",
       "                         count        mean        std      min        25%   \n",
       "Item_Type                                                                   \n",
       "Baking Goods            1086.0  127.458237  57.300836  33.4874   86.47835   \n",
       "Breads                   416.0  141.389849  63.190637  31.9558   93.81860   \n",
       "Breakfast                186.0  137.985444  56.218724  38.2480   99.03580   \n",
       "Canned                  1084.0  138.620936  60.162335  35.9506   89.71655   \n",
       "Dairy                   1136.0  147.230998  70.178385  33.2874   87.94415   \n",
       "Frozen Foods            1426.0  136.467385  66.597339  31.9558   82.90065   \n",
       "Fruits and Vegetables   2013.0  144.304237  59.221923  34.8190   99.90160   \n",
       "Hard Drinks              362.0  137.295031  65.780697  34.2532   74.87880   \n",
       "Health and Hygiene       858.0  133.108079  59.799825  32.8216   96.66535   \n",
       "Household               1548.0  148.736501  62.545452  31.9900  106.52140   \n",
       "Meat                     736.0  140.291141  59.003779  34.5532   98.55420   \n",
       "Others                   280.0  133.745047  60.733972  34.8190   83.99080   \n",
       "Seafood                   89.0  141.288751  60.200329  33.7216  108.45960   \n",
       "Snack Foods             1989.0  146.460309  59.554434  32.3558  104.96220   \n",
       "Soft Drinks              726.0  135.403726  60.552403  31.2900   85.31320   \n",
       "Starchy Foods            269.0  149.751917  66.716959  34.0532   92.68040   \n",
       "\n",
       "                                                     Item_Outlet_Sales  \\\n",
       "                            50%        75%       max             count   \n",
       "Item_Type                                                                \n",
       "Baking Goods           117.4124  172.01720  265.5568             648.0   \n",
       "Breads                 130.1152  193.22940  263.6594             251.0   \n",
       "Breakfast              152.4682  176.53700  234.9300             110.0   \n",
       "Canned                 133.2942  184.10095  266.8884             649.0   \n",
       "Dairy                  146.4273  210.24940  266.6884             682.0   \n",
       "Frozen Foods           126.1520  188.84770  264.8910             856.0   \n",
       "Fruits and Vegetables  145.1418  188.08720  264.2252            1232.0   \n",
       "Hard Drinks            144.3628  179.10810  261.8278             214.0   \n",
       "Health and Hygiene     129.6468  165.75130  266.6884             520.0   \n",
       "Household              152.5024  191.10300  264.7910             910.0   \n",
       "Meat                   142.6312  184.48710  261.5936             425.0   \n",
       "Others                 132.3284  183.84370  254.9040             169.0   \n",
       "Seafood                156.9604  185.05820  240.4880              64.0   \n",
       "Snack Foods            147.4760  186.98980  265.0568            1200.0   \n",
       "Soft Drinks            145.2286  184.72530  263.5910             445.0   \n",
       "Starchy Foods          168.6158  194.08200  263.6252             148.0   \n",
       "\n",
       "                                     ...   Item_Weight         \\\n",
       "                              mean   ...           75%    max   \n",
       "Item_Type                            ...                        \n",
       "Baking Goods           1952.971207   ...       15.1500  20.85   \n",
       "Breads                 2204.132226   ...       13.6500  20.85   \n",
       "Breakfast              2111.808651   ...       17.0625  21.10   \n",
       "Canned                 2225.194904   ...       15.7000  21.35   \n",
       "Dairy                  2232.542597   ...       16.7000  20.70   \n",
       "Frozen Foods           2132.867744   ...       15.7000  20.85   \n",
       "Fruits and Vegetables  2289.009592   ...       16.2500  21.35   \n",
       "Hard Drinks            2139.221622   ...       14.6500  19.70   \n",
       "Health and Hygiene     2010.000265   ...       16.6000  21.25   \n",
       "Household              2258.784300   ...       17.1000  21.25   \n",
       "Meat                   2158.977911   ...       15.7000  21.25   \n",
       "Others                 1926.139702   ...       16.3500  20.50   \n",
       "Seafood                2326.065928   ...       17.3500  20.75   \n",
       "Snack Foods            2277.321739   ...       15.8500  21.25   \n",
       "Soft Drinks            2006.511735   ...       15.1500  20.75   \n",
       "Starchy Foods          2374.332773   ...       16.7000  21.20   \n",
       "\n",
       "                      Outlet_Establishment_Year                         \\\n",
       "                                          count         mean       std   \n",
       "Item_Type                                                                \n",
       "Baking Goods                             1086.0  1997.825967  8.371232   \n",
       "Breads                                    416.0  1997.754808  8.387453   \n",
       "Breakfast                                 186.0  1997.666667  8.467851   \n",
       "Canned                                   1084.0  1997.854244  8.379997   \n",
       "Dairy                                    1136.0  1997.853873  8.383734   \n",
       "Frozen Foods                             1426.0  1997.767181  8.403788   \n",
       "Fruits and Vegetables                    2013.0  1997.806756  8.363743   \n",
       "Hard Drinks                               362.0  1997.953039  8.309825   \n",
       "Health and Hygiene                        858.0  1997.785548  8.365383   \n",
       "Household                                1548.0  1997.867571  8.351747   \n",
       "Meat                                      736.0  1997.748641  8.383211   \n",
       "Others                                    280.0  1997.621429  8.478916   \n",
       "Seafood                                    89.0  1997.696629  8.517902   \n",
       "Snack Foods                              1989.0  1997.889894  8.374559   \n",
       "Soft Drinks                               726.0  1997.878788  8.379230   \n",
       "Starchy Foods                             269.0  1998.089219  8.287254   \n",
       "\n",
       "                                                               \n",
       "                          min     25%     50%     75%     max  \n",
       "Item_Type                                                      \n",
       "Baking Goods           1985.0  1987.0  1999.0  2004.0  2009.0  \n",
       "Breads                 1985.0  1987.0  1999.0  2004.0  2009.0  \n",
       "Breakfast              1985.0  1987.0  1999.0  2004.0  2009.0  \n",
       "Canned                 1985.0  1987.0  1999.0  2004.0  2009.0  \n",
       "Dairy                  1985.0  1987.0  1999.0  2004.0  2009.0  \n",
       "Frozen Foods           1985.0  1987.0  1999.0  2004.0  2009.0  \n",
       "Fruits and Vegetables  1985.0  1987.0  1999.0  2004.0  2009.0  \n",
       "Hard Drinks            1985.0  1987.0  1999.0  2004.0  2009.0  \n",
       "Health and Hygiene     1985.0  1987.0  1999.0  2004.0  2009.0  \n",
       "Household              1985.0  1987.0  1999.0  2004.0  2009.0  \n",
       "Meat                   1985.0  1987.0  1999.0  2004.0  2009.0  \n",
       "Others                 1985.0  1987.0  1999.0  2004.0  2009.0  \n",
       "Seafood                1985.0  1987.0  1999.0  2004.0  2009.0  \n",
       "Snack Foods            1985.0  1987.0  1999.0  2004.0  2009.0  \n",
       "Soft Drinks            1985.0  1987.0  1999.0  2004.0  2009.0  \n",
       "Starchy Foods          1985.0  1987.0  1999.0  2004.0  2009.0  \n",
       "\n",
       "[16 rows x 40 columns]"
      ]
     },
     "execution_count": 244,
     "metadata": {},
     "output_type": "execute_result"
    }
   ],
   "source": [
    "data.groupby('Item_Type').describe()"
   ]
  },
  {
   "cell_type": "code",
   "execution_count": 245,
   "metadata": {},
   "outputs": [
    {
     "data": {
      "text/html": [
       "<div>\n",
       "<style scoped>\n",
       "    .dataframe tbody tr th:only-of-type {\n",
       "        vertical-align: middle;\n",
       "    }\n",
       "\n",
       "    .dataframe tbody tr th {\n",
       "        vertical-align: top;\n",
       "    }\n",
       "\n",
       "    .dataframe thead tr th {\n",
       "        text-align: left;\n",
       "    }\n",
       "\n",
       "    .dataframe thead tr:last-of-type th {\n",
       "        text-align: right;\n",
       "    }\n",
       "</style>\n",
       "<table border=\"1\" class=\"dataframe\">\n",
       "  <thead>\n",
       "    <tr>\n",
       "      <th></th>\n",
       "      <th colspan=\"8\" halign=\"left\">Item_MRP</th>\n",
       "      <th colspan=\"2\" halign=\"left\">Item_Outlet_Sales</th>\n",
       "      <th>...</th>\n",
       "      <th colspan=\"2\" halign=\"left\">Item_Weight</th>\n",
       "      <th colspan=\"8\" halign=\"left\">Outlet_Establishment_Year</th>\n",
       "    </tr>\n",
       "    <tr>\n",
       "      <th></th>\n",
       "      <th>count</th>\n",
       "      <th>mean</th>\n",
       "      <th>std</th>\n",
       "      <th>min</th>\n",
       "      <th>25%</th>\n",
       "      <th>50%</th>\n",
       "      <th>75%</th>\n",
       "      <th>max</th>\n",
       "      <th>count</th>\n",
       "      <th>mean</th>\n",
       "      <th>...</th>\n",
       "      <th>75%</th>\n",
       "      <th>max</th>\n",
       "      <th>count</th>\n",
       "      <th>mean</th>\n",
       "      <th>std</th>\n",
       "      <th>min</th>\n",
       "      <th>25%</th>\n",
       "      <th>50%</th>\n",
       "      <th>75%</th>\n",
       "      <th>max</th>\n",
       "    </tr>\n",
       "    <tr>\n",
       "      <th>Item_Fat_Content</th>\n",
       "      <th></th>\n",
       "      <th></th>\n",
       "      <th></th>\n",
       "      <th></th>\n",
       "      <th></th>\n",
       "      <th></th>\n",
       "      <th></th>\n",
       "      <th></th>\n",
       "      <th></th>\n",
       "      <th></th>\n",
       "      <th></th>\n",
       "      <th></th>\n",
       "      <th></th>\n",
       "      <th></th>\n",
       "      <th></th>\n",
       "      <th></th>\n",
       "      <th></th>\n",
       "      <th></th>\n",
       "      <th></th>\n",
       "      <th></th>\n",
       "      <th></th>\n",
       "    </tr>\n",
       "  </thead>\n",
       "  <tbody>\n",
       "    <tr>\n",
       "      <th>LF</th>\n",
       "      <td>522.0</td>\n",
       "      <td>138.267925</td>\n",
       "      <td>62.518841</td>\n",
       "      <td>32.0900</td>\n",
       "      <td>93.72650</td>\n",
       "      <td>132.3784</td>\n",
       "      <td>182.62855</td>\n",
       "      <td>264.7884</td>\n",
       "      <td>316.0</td>\n",
       "      <td>2073.551928</td>\n",
       "      <td>...</td>\n",
       "      <td>16.075</td>\n",
       "      <td>21.25</td>\n",
       "      <td>522.0</td>\n",
       "      <td>1997.624521</td>\n",
       "      <td>8.341144</td>\n",
       "      <td>1985.0</td>\n",
       "      <td>1987.0</td>\n",
       "      <td>1999.0</td>\n",
       "      <td>2004.0</td>\n",
       "      <td>2009.0</td>\n",
       "    </tr>\n",
       "    <tr>\n",
       "      <th>Low Fat</th>\n",
       "      <td>8485.0</td>\n",
       "      <td>141.454357</td>\n",
       "      <td>61.997603</td>\n",
       "      <td>31.2900</td>\n",
       "      <td>95.84100</td>\n",
       "      <td>142.3496</td>\n",
       "      <td>185.39240</td>\n",
       "      <td>266.8884</td>\n",
       "      <td>5089.0</td>\n",
       "      <td>2164.477336</td>\n",
       "      <td>...</td>\n",
       "      <td>16.200</td>\n",
       "      <td>21.35</td>\n",
       "      <td>8485.0</td>\n",
       "      <td>1997.880024</td>\n",
       "      <td>8.359693</td>\n",
       "      <td>1985.0</td>\n",
       "      <td>1987.0</td>\n",
       "      <td>1999.0</td>\n",
       "      <td>2004.0</td>\n",
       "      <td>2009.0</td>\n",
       "    </tr>\n",
       "    <tr>\n",
       "      <th>Regular</th>\n",
       "      <td>4824.0</td>\n",
       "      <td>140.847488</td>\n",
       "      <td>62.009610</td>\n",
       "      <td>32.0558</td>\n",
       "      <td>91.04880</td>\n",
       "      <td>142.6457</td>\n",
       "      <td>186.46415</td>\n",
       "      <td>266.8884</td>\n",
       "      <td>2889.0</td>\n",
       "      <td>2235.186702</td>\n",
       "      <td>...</td>\n",
       "      <td>15.700</td>\n",
       "      <td>21.20</td>\n",
       "      <td>4824.0</td>\n",
       "      <td>1997.810945</td>\n",
       "      <td>8.380783</td>\n",
       "      <td>1985.0</td>\n",
       "      <td>1987.0</td>\n",
       "      <td>1999.0</td>\n",
       "      <td>2004.0</td>\n",
       "      <td>2009.0</td>\n",
       "    </tr>\n",
       "    <tr>\n",
       "      <th>low fat</th>\n",
       "      <td>178.0</td>\n",
       "      <td>137.128024</td>\n",
       "      <td>65.278549</td>\n",
       "      <td>33.9216</td>\n",
       "      <td>90.79025</td>\n",
       "      <td>141.2141</td>\n",
       "      <td>189.50495</td>\n",
       "      <td>265.0884</td>\n",
       "      <td>112.0</td>\n",
       "      <td>2087.740737</td>\n",
       "      <td>...</td>\n",
       "      <td>14.150</td>\n",
       "      <td>21.25</td>\n",
       "      <td>178.0</td>\n",
       "      <td>1996.039326</td>\n",
       "      <td>8.903349</td>\n",
       "      <td>1985.0</td>\n",
       "      <td>1985.5</td>\n",
       "      <td>1998.0</td>\n",
       "      <td>2004.0</td>\n",
       "      <td>2009.0</td>\n",
       "    </tr>\n",
       "    <tr>\n",
       "      <th>reg</th>\n",
       "      <td>195.0</td>\n",
       "      <td>136.213083</td>\n",
       "      <td>63.841378</td>\n",
       "      <td>32.3558</td>\n",
       "      <td>83.77500</td>\n",
       "      <td>140.0154</td>\n",
       "      <td>185.05950</td>\n",
       "      <td>261.5936</td>\n",
       "      <td>117.0</td>\n",
       "      <td>1962.192268</td>\n",
       "      <td>...</td>\n",
       "      <td>15.600</td>\n",
       "      <td>20.85</td>\n",
       "      <td>195.0</td>\n",
       "      <td>1998.358974</td>\n",
       "      <td>8.125584</td>\n",
       "      <td>1985.0</td>\n",
       "      <td>1992.0</td>\n",
       "      <td>1999.0</td>\n",
       "      <td>2004.0</td>\n",
       "      <td>2009.0</td>\n",
       "    </tr>\n",
       "  </tbody>\n",
       "</table>\n",
       "<p>5 rows × 40 columns</p>\n",
       "</div>"
      ],
      "text/plain": [
       "                 Item_MRP                                                      \\\n",
       "                    count        mean        std      min       25%       50%   \n",
       "Item_Fat_Content                                                                \n",
       "LF                  522.0  138.267925  62.518841  32.0900  93.72650  132.3784   \n",
       "Low Fat            8485.0  141.454357  61.997603  31.2900  95.84100  142.3496   \n",
       "Regular            4824.0  140.847488  62.009610  32.0558  91.04880  142.6457   \n",
       "low fat             178.0  137.128024  65.278549  33.9216  90.79025  141.2141   \n",
       "reg                 195.0  136.213083  63.841378  32.3558  83.77500  140.0154   \n",
       "\n",
       "                                      Item_Outlet_Sales                ...    \\\n",
       "                        75%       max             count         mean   ...     \n",
       "Item_Fat_Content                                                       ...     \n",
       "LF                182.62855  264.7884             316.0  2073.551928   ...     \n",
       "Low Fat           185.39240  266.8884            5089.0  2164.477336   ...     \n",
       "Regular           186.46415  266.8884            2889.0  2235.186702   ...     \n",
       "low fat           189.50495  265.0884             112.0  2087.740737   ...     \n",
       "reg               185.05950  261.5936             117.0  1962.192268   ...     \n",
       "\n",
       "                 Item_Weight        Outlet_Establishment_Year               \\\n",
       "                         75%    max                     count         mean   \n",
       "Item_Fat_Content                                                             \n",
       "LF                    16.075  21.25                     522.0  1997.624521   \n",
       "Low Fat               16.200  21.35                    8485.0  1997.880024   \n",
       "Regular               15.700  21.20                    4824.0  1997.810945   \n",
       "low fat               14.150  21.25                     178.0  1996.039326   \n",
       "reg                   15.600  20.85                     195.0  1998.358974   \n",
       "\n",
       "                                                                    \n",
       "                       std     min     25%     50%     75%     max  \n",
       "Item_Fat_Content                                                    \n",
       "LF                8.341144  1985.0  1987.0  1999.0  2004.0  2009.0  \n",
       "Low Fat           8.359693  1985.0  1987.0  1999.0  2004.0  2009.0  \n",
       "Regular           8.380783  1985.0  1987.0  1999.0  2004.0  2009.0  \n",
       "low fat           8.903349  1985.0  1985.5  1998.0  2004.0  2009.0  \n",
       "reg               8.125584  1985.0  1992.0  1999.0  2004.0  2009.0  \n",
       "\n",
       "[5 rows x 40 columns]"
      ]
     },
     "execution_count": 245,
     "metadata": {},
     "output_type": "execute_result"
    }
   ],
   "source": [
    "data.groupby('Item_Fat_Content').describe()"
   ]
  },
  {
   "cell_type": "code",
   "execution_count": 246,
   "metadata": {},
   "outputs": [
    {
     "data": {
      "text/html": [
       "<div>\n",
       "<style scoped>\n",
       "    .dataframe tbody tr th:only-of-type {\n",
       "        vertical-align: middle;\n",
       "    }\n",
       "\n",
       "    .dataframe tbody tr th {\n",
       "        vertical-align: top;\n",
       "    }\n",
       "\n",
       "    .dataframe thead th {\n",
       "        text-align: right;\n",
       "    }\n",
       "</style>\n",
       "<table border=\"1\" class=\"dataframe\">\n",
       "  <thead>\n",
       "    <tr style=\"text-align: right;\">\n",
       "      <th></th>\n",
       "      <th>Item_Fat_Content</th>\n",
       "      <th>Item_Identifier</th>\n",
       "      <th>Item_MRP</th>\n",
       "      <th>Item_Outlet_Sales</th>\n",
       "      <th>Item_Type</th>\n",
       "      <th>Item_Visibility</th>\n",
       "      <th>Item_Weight</th>\n",
       "      <th>Outlet_Establishment_Year</th>\n",
       "      <th>Outlet_Identifier</th>\n",
       "      <th>Outlet_Location_Type</th>\n",
       "      <th>Outlet_Size</th>\n",
       "      <th>Outlet_Type</th>\n",
       "    </tr>\n",
       "  </thead>\n",
       "  <tbody>\n",
       "    <tr>\n",
       "      <th>0</th>\n",
       "      <td>Low Fat</td>\n",
       "      <td>FDA15</td>\n",
       "      <td>249.8092</td>\n",
       "      <td>3735.1380</td>\n",
       "      <td>Dairy</td>\n",
       "      <td>0.016047</td>\n",
       "      <td>9.30</td>\n",
       "      <td>1999</td>\n",
       "      <td>OUT049</td>\n",
       "      <td>Tier 1</td>\n",
       "      <td>Medium</td>\n",
       "      <td>Supermarket Type1</td>\n",
       "    </tr>\n",
       "    <tr>\n",
       "      <th>1</th>\n",
       "      <td>Regular</td>\n",
       "      <td>DRC01</td>\n",
       "      <td>48.2692</td>\n",
       "      <td>443.4228</td>\n",
       "      <td>Soft Drinks</td>\n",
       "      <td>0.019278</td>\n",
       "      <td>5.92</td>\n",
       "      <td>2009</td>\n",
       "      <td>OUT018</td>\n",
       "      <td>Tier 3</td>\n",
       "      <td>Medium</td>\n",
       "      <td>Supermarket Type2</td>\n",
       "    </tr>\n",
       "    <tr>\n",
       "      <th>2</th>\n",
       "      <td>Low Fat</td>\n",
       "      <td>FDN15</td>\n",
       "      <td>141.6180</td>\n",
       "      <td>2097.2700</td>\n",
       "      <td>Meat</td>\n",
       "      <td>0.016760</td>\n",
       "      <td>17.50</td>\n",
       "      <td>1999</td>\n",
       "      <td>OUT049</td>\n",
       "      <td>Tier 1</td>\n",
       "      <td>Medium</td>\n",
       "      <td>Supermarket Type1</td>\n",
       "    </tr>\n",
       "    <tr>\n",
       "      <th>3</th>\n",
       "      <td>Regular</td>\n",
       "      <td>FDX07</td>\n",
       "      <td>182.0950</td>\n",
       "      <td>732.3800</td>\n",
       "      <td>Fruits and Vegetables</td>\n",
       "      <td>0.000000</td>\n",
       "      <td>19.20</td>\n",
       "      <td>1998</td>\n",
       "      <td>OUT010</td>\n",
       "      <td>Tier 3</td>\n",
       "      <td>Medium</td>\n",
       "      <td>Grocery Store</td>\n",
       "    </tr>\n",
       "    <tr>\n",
       "      <th>4</th>\n",
       "      <td>Low Fat</td>\n",
       "      <td>NCD19</td>\n",
       "      <td>53.8614</td>\n",
       "      <td>994.7052</td>\n",
       "      <td>Household</td>\n",
       "      <td>0.000000</td>\n",
       "      <td>8.93</td>\n",
       "      <td>1987</td>\n",
       "      <td>OUT013</td>\n",
       "      <td>Tier 3</td>\n",
       "      <td>High</td>\n",
       "      <td>Supermarket Type1</td>\n",
       "    </tr>\n",
       "  </tbody>\n",
       "</table>\n",
       "</div>"
      ],
      "text/plain": [
       "  Item_Fat_Content Item_Identifier  Item_MRP  Item_Outlet_Sales  \\\n",
       "0          Low Fat           FDA15  249.8092          3735.1380   \n",
       "1          Regular           DRC01   48.2692           443.4228   \n",
       "2          Low Fat           FDN15  141.6180          2097.2700   \n",
       "3          Regular           FDX07  182.0950           732.3800   \n",
       "4          Low Fat           NCD19   53.8614           994.7052   \n",
       "\n",
       "               Item_Type  Item_Visibility  Item_Weight  \\\n",
       "0                  Dairy         0.016047         9.30   \n",
       "1            Soft Drinks         0.019278         5.92   \n",
       "2                   Meat         0.016760        17.50   \n",
       "3  Fruits and Vegetables         0.000000        19.20   \n",
       "4              Household         0.000000         8.93   \n",
       "\n",
       "   Outlet_Establishment_Year Outlet_Identifier Outlet_Location_Type  \\\n",
       "0                       1999            OUT049               Tier 1   \n",
       "1                       2009            OUT018               Tier 3   \n",
       "2                       1999            OUT049               Tier 1   \n",
       "3                       1998            OUT010               Tier 3   \n",
       "4                       1987            OUT013               Tier 3   \n",
       "\n",
       "  Outlet_Size        Outlet_Type  \n",
       "0      Medium  Supermarket Type1  \n",
       "1      Medium  Supermarket Type2  \n",
       "2      Medium  Supermarket Type1  \n",
       "3      Medium      Grocery Store  \n",
       "4        High  Supermarket Type1  "
      ]
     },
     "execution_count": 246,
     "metadata": {},
     "output_type": "execute_result"
    }
   ],
   "source": [
    "data.head()"
   ]
  },
  {
   "cell_type": "markdown",
   "metadata": {},
   "source": [
    "## correlations\n"
   ]
  },
  {
   "cell_type": "code",
   "execution_count": 247,
   "metadata": {},
   "outputs": [
    {
     "data": {
      "image/png": "[encoded data removed]",
      "text/plain": [
       "<Figure size 864x720 with 4 Axes>"
      ]
     },
     "metadata": {},
     "output_type": "display_data"
    }
   ],
   "source": [
    "nrows = 2\n",
    "ncols = 2\n",
    "k=0\n",
    "fig,axes = plt.subplots(nrows,ncols,figsize=(12,10))\n",
    "for i in range(nrows):\n",
    "    for j in range(ncols):\n",
    "        x = train.loc[:,numerical_feats[k]]\n",
    "        cor = stats.pearsonr(x,y_log_sales)\n",
    "        sns.regplot(x,y_log_sales, ax = axes[i][j])\n",
    "        str_title = \"r = \" + \"{0:.2f}\".format(cor[0]) + \"      \" \"p = \" + \"{0:.2f}\".format(cor[1])\n",
    "        axes[i][j].set_title(str_title)\n",
    "        k+=1\n",
    "plt.tight_layout()"
   ]
  },
  {
   "cell_type": "markdown",
   "metadata": {},
   "source": [
    "## One Hot Encoding"
   ]
  },
  {
   "cell_type": "code",
   "execution_count": 248,
   "metadata": {},
   "outputs": [],
   "source": [
    "data_1 = pd.get_dummies(data,columns=['Item_Fat_Content','Item_Type','Outlet_Location_Type','Outlet_Size','Outlet_Type','Outlet_Identifier'],drop_first=True)"
   ]
  },
  {
   "cell_type": "code",
   "execution_count": 249,
   "metadata": {},
   "outputs": [
    {
     "data": {
      "text/plain": [
       "Item_Fat_Content              object\n",
       "Item_Identifier               object\n",
       "Item_MRP                     float64\n",
       "Item_Outlet_Sales            float64\n",
       "Item_Type                     object\n",
       "Item_Visibility              float64\n",
       "Item_Weight                  float64\n",
       "Outlet_Establishment_Year      int64\n",
       "Outlet_Identifier             object\n",
       "Outlet_Location_Type          object\n",
       "Outlet_Size                   object\n",
       "Outlet_Type                   object\n",
       "dtype: object"
      ]
     },
     "execution_count": 249,
     "metadata": {},
     "output_type": "execute_result"
    }
   ],
   "source": [
    "data.dtypes"
   ]
  },
  {
   "cell_type": "code",
   "execution_count": 250,
   "metadata": {},
   "outputs": [
    {
     "name": "stdout",
     "output_type": "stream",
     "text": [
      "<class 'pandas.core.frame.DataFrame'>\n",
      "RangeIndex: 14204 entries, 0 to 14203\n",
      "Data columns (total 41 columns):\n",
      "Item_Identifier                    14204 non-null object\n",
      "Item_MRP                           14204 non-null float64\n",
      "Item_Outlet_Sales                  8523 non-null float64\n",
      "Item_Visibility                    14204 non-null float64\n",
      "Item_Weight                        14204 non-null float64\n",
      "Outlet_Establishment_Year          14204 non-null int64\n",
      "Item_Fat_Content_Low Fat           14204 non-null uint8\n",
      "Item_Fat_Content_Regular           14204 non-null uint8\n",
      "Item_Fat_Content_low fat           14204 non-null uint8\n",
      "Item_Fat_Content_reg               14204 non-null uint8\n",
      "Item_Type_Breads                   14204 non-null uint8\n",
      "Item_Type_Breakfast                14204 non-null uint8\n",
      "Item_Type_Canned                   14204 non-null uint8\n",
      "Item_Type_Dairy                    14204 non-null uint8\n",
      "Item_Type_Frozen Foods             14204 non-null uint8\n",
      "Item_Type_Fruits and Vegetables    14204 non-null uint8\n",
      "Item_Type_Hard Drinks              14204 non-null uint8\n",
      "Item_Type_Health and Hygiene       14204 non-null uint8\n",
      "Item_Type_Household                14204 non-null uint8\n",
      "Item_Type_Meat                     14204 non-null uint8\n",
      "Item_Type_Others                   14204 non-null uint8\n",
      "Item_Type_Seafood                  14204 non-null uint8\n",
      "Item_Type_Snack Foods              14204 non-null uint8\n",
      "Item_Type_Soft Drinks              14204 non-null uint8\n",
      "Item_Type_Starchy Foods            14204 non-null uint8\n",
      "Outlet_Location_Type_Tier 2        14204 non-null uint8\n",
      "Outlet_Location_Type_Tier 3        14204 non-null uint8\n",
      "Outlet_Size_Medium                 14204 non-null uint8\n",
      "Outlet_Size_Small                  14204 non-null uint8\n",
      "Outlet_Type_Supermarket Type1      14204 non-null uint8\n",
      "Outlet_Type_Supermarket Type2      14204 non-null uint8\n",
      "Outlet_Type_Supermarket Type3      14204 non-null uint8\n",
      "Outlet_Identifier_OUT013           14204 non-null uint8\n",
      "Outlet_Identifier_OUT017           14204 non-null uint8\n",
      "Outlet_Identifier_OUT018           14204 non-null uint8\n",
      "Outlet_Identifier_OUT019           14204 non-null uint8\n",
      "Outlet_Identifier_OUT027           14204 non-null uint8\n",
      "Outlet_Identifier_OUT035           14204 non-null uint8\n",
      "Outlet_Identifier_OUT045           14204 non-null uint8\n",
      "Outlet_Identifier_OUT046           14204 non-null uint8\n",
      "Outlet_Identifier_OUT049           14204 non-null uint8\n",
      "dtypes: float64(4), int64(1), object(1), uint8(35)\n",
      "memory usage: 1.1+ MB\n"
     ]
    }
   ],
   "source": [
    "data_1.info()"
   ]
  },
  {
   "cell_type": "code",
   "execution_count": 251,
   "metadata": {},
   "outputs": [
    {
     "data": {
      "text/plain": [
       "(14204, 41)"
      ]
     },
     "execution_count": 251,
     "metadata": {},
     "output_type": "execute_result"
    }
   ],
   "source": [
    "data_1.shape"
   ]
  },
  {
   "cell_type": "code",
   "execution_count": 252,
   "metadata": {},
   "outputs": [
    {
     "data": {
      "text/html": [
       "<div>\n",
       "<style scoped>\n",
       "    .dataframe tbody tr th:only-of-type {\n",
       "        vertical-align: middle;\n",
       "    }\n",
       "\n",
       "    .dataframe tbody tr th {\n",
       "        vertical-align: top;\n",
       "    }\n",
       "\n",
       "    .dataframe thead th {\n",
       "        text-align: right;\n",
       "    }\n",
       "</style>\n",
       "<table border=\"1\" class=\"dataframe\">\n",
       "  <thead>\n",
       "    <tr style=\"text-align: right;\">\n",
       "      <th></th>\n",
       "      <th>Item_Identifier</th>\n",
       "      <th>Item_MRP</th>\n",
       "      <th>Item_Outlet_Sales</th>\n",
       "      <th>Item_Visibility</th>\n",
       "      <th>Item_Weight</th>\n",
       "      <th>Outlet_Establishment_Year</th>\n",
       "      <th>Item_Fat_Content_Low Fat</th>\n",
       "      <th>Item_Fat_Content_Regular</th>\n",
       "      <th>Item_Fat_Content_low fat</th>\n",
       "      <th>Item_Fat_Content_reg</th>\n",
       "      <th>...</th>\n",
       "      <th>Outlet_Type_Supermarket Type3</th>\n",
       "      <th>Outlet_Identifier_OUT013</th>\n",
       "      <th>Outlet_Identifier_OUT017</th>\n",
       "      <th>Outlet_Identifier_OUT018</th>\n",
       "      <th>Outlet_Identifier_OUT019</th>\n",
       "      <th>Outlet_Identifier_OUT027</th>\n",
       "      <th>Outlet_Identifier_OUT035</th>\n",
       "      <th>Outlet_Identifier_OUT045</th>\n",
       "      <th>Outlet_Identifier_OUT046</th>\n",
       "      <th>Outlet_Identifier_OUT049</th>\n",
       "    </tr>\n",
       "  </thead>\n",
       "  <tbody>\n",
       "    <tr>\n",
       "      <th>0</th>\n",
       "      <td>FDA15</td>\n",
       "      <td>249.8092</td>\n",
       "      <td>3735.1380</td>\n",
       "      <td>0.016047</td>\n",
       "      <td>9.30</td>\n",
       "      <td>1999</td>\n",
       "      <td>1</td>\n",
       "      <td>0</td>\n",
       "      <td>0</td>\n",
       "      <td>0</td>\n",
       "      <td>...</td>\n",
       "      <td>0</td>\n",
       "      <td>0</td>\n",
       "      <td>0</td>\n",
       "      <td>0</td>\n",
       "      <td>0</td>\n",
       "      <td>0</td>\n",
       "      <td>0</td>\n",
       "      <td>0</td>\n",
       "      <td>0</td>\n",
       "      <td>1</td>\n",
       "    </tr>\n",
       "    <tr>\n",
       "      <th>1</th>\n",
       "      <td>DRC01</td>\n",
       "      <td>48.2692</td>\n",
       "      <td>443.4228</td>\n",
       "      <td>0.019278</td>\n",
       "      <td>5.92</td>\n",
       "      <td>2009</td>\n",
       "      <td>0</td>\n",
       "      <td>1</td>\n",
       "      <td>0</td>\n",
       "      <td>0</td>\n",
       "      <td>...</td>\n",
       "      <td>0</td>\n",
       "      <td>0</td>\n",
       "      <td>0</td>\n",
       "      <td>1</td>\n",
       "      <td>0</td>\n",
       "      <td>0</td>\n",
       "      <td>0</td>\n",
       "      <td>0</td>\n",
       "      <td>0</td>\n",
       "      <td>0</td>\n",
       "    </tr>\n",
       "    <tr>\n",
       "      <th>2</th>\n",
       "      <td>FDN15</td>\n",
       "      <td>141.6180</td>\n",
       "      <td>2097.2700</td>\n",
       "      <td>0.016760</td>\n",
       "      <td>17.50</td>\n",
       "      <td>1999</td>\n",
       "      <td>1</td>\n",
       "      <td>0</td>\n",
       "      <td>0</td>\n",
       "      <td>0</td>\n",
       "      <td>...</td>\n",
       "      <td>0</td>\n",
       "      <td>0</td>\n",
       "      <td>0</td>\n",
       "      <td>0</td>\n",
       "      <td>0</td>\n",
       "      <td>0</td>\n",
       "      <td>0</td>\n",
       "      <td>0</td>\n",
       "      <td>0</td>\n",
       "      <td>1</td>\n",
       "    </tr>\n",
       "    <tr>\n",
       "      <th>3</th>\n",
       "      <td>FDX07</td>\n",
       "      <td>182.0950</td>\n",
       "      <td>732.3800</td>\n",
       "      <td>0.000000</td>\n",
       "      <td>19.20</td>\n",
       "      <td>1998</td>\n",
       "      <td>0</td>\n",
       "      <td>1</td>\n",
       "      <td>0</td>\n",
       "      <td>0</td>\n",
       "      <td>...</td>\n",
       "      <td>0</td>\n",
       "      <td>0</td>\n",
       "      <td>0</td>\n",
       "      <td>0</td>\n",
       "      <td>0</td>\n",
       "      <td>0</td>\n",
       "      <td>0</td>\n",
       "      <td>0</td>\n",
       "      <td>0</td>\n",
       "      <td>0</td>\n",
       "    </tr>\n",
       "    <tr>\n",
       "      <th>4</th>\n",
       "      <td>NCD19</td>\n",
       "      <td>53.8614</td>\n",
       "      <td>994.7052</td>\n",
       "      <td>0.000000</td>\n",
       "      <td>8.93</td>\n",
       "      <td>1987</td>\n",
       "      <td>1</td>\n",
       "      <td>0</td>\n",
       "      <td>0</td>\n",
       "      <td>0</td>\n",
       "      <td>...</td>\n",
       "      <td>0</td>\n",
       "      <td>1</td>\n",
       "      <td>0</td>\n",
       "      <td>0</td>\n",
       "      <td>0</td>\n",
       "      <td>0</td>\n",
       "      <td>0</td>\n",
       "      <td>0</td>\n",
       "      <td>0</td>\n",
       "      <td>0</td>\n",
       "    </tr>\n",
       "  </tbody>\n",
       "</table>\n",
       "<p>5 rows × 41 columns</p>\n",
       "</div>"
      ],
      "text/plain": [
       "  Item_Identifier  Item_MRP  Item_Outlet_Sales  Item_Visibility  Item_Weight  \\\n",
       "0           FDA15  249.8092          3735.1380         0.016047         9.30   \n",
       "1           DRC01   48.2692           443.4228         0.019278         5.92   \n",
       "2           FDN15  141.6180          2097.2700         0.016760        17.50   \n",
       "3           FDX07  182.0950           732.3800         0.000000        19.20   \n",
       "4           NCD19   53.8614           994.7052         0.000000         8.93   \n",
       "\n",
       "   Outlet_Establishment_Year  Item_Fat_Content_Low Fat  \\\n",
       "0                       1999                         1   \n",
       "1                       2009                         0   \n",
       "2                       1999                         1   \n",
       "3                       1998                         0   \n",
       "4                       1987                         1   \n",
       "\n",
       "   Item_Fat_Content_Regular  Item_Fat_Content_low fat  Item_Fat_Content_reg  \\\n",
       "0                         0                         0                     0   \n",
       "1                         1                         0                     0   \n",
       "2                         0                         0                     0   \n",
       "3                         1                         0                     0   \n",
       "4                         0                         0                     0   \n",
       "\n",
       "             ...             Outlet_Type_Supermarket Type3  \\\n",
       "0            ...                                         0   \n",
       "1            ...                                         0   \n",
       "2            ...                                         0   \n",
       "3            ...                                         0   \n",
       "4            ...                                         0   \n",
       "\n",
       "   Outlet_Identifier_OUT013  Outlet_Identifier_OUT017  \\\n",
       "0                         0                         0   \n",
       "1                         0                         0   \n",
       "2                         0                         0   \n",
       "3                         0                         0   \n",
       "4                         1                         0   \n",
       "\n",
       "   Outlet_Identifier_OUT018  Outlet_Identifier_OUT019  \\\n",
       "0                         0                         0   \n",
       "1                         1                         0   \n",
       "2                         0                         0   \n",
       "3                         0                         0   \n",
       "4                         0                         0   \n",
       "\n",
       "   Outlet_Identifier_OUT027  Outlet_Identifier_OUT035  \\\n",
       "0                         0                         0   \n",
       "1                         0                         0   \n",
       "2                         0                         0   \n",
       "3                         0                         0   \n",
       "4                         0                         0   \n",
       "\n",
       "   Outlet_Identifier_OUT045  Outlet_Identifier_OUT046  \\\n",
       "0                         0                         0   \n",
       "1                         0                         0   \n",
       "2                         0                         0   \n",
       "3                         0                         0   \n",
       "4                         0                         0   \n",
       "\n",
       "   Outlet_Identifier_OUT049  \n",
       "0                         1  \n",
       "1                         0  \n",
       "2                         1  \n",
       "3                         0  \n",
       "4                         0  \n",
       "\n",
       "[5 rows x 41 columns]"
      ]
     },
     "execution_count": 252,
     "metadata": {},
     "output_type": "execute_result"
    }
   ],
   "source": [
    "data_1.head()"
   ]
  },
  {
   "cell_type": "code",
   "execution_count": 253,
   "metadata": {},
   "outputs": [],
   "source": [
    "train = data_1[:n_train]\n",
    "test = data_1[n_train:]"
   ]
  },
  {
   "cell_type": "code",
   "execution_count": 254,
   "metadata": {},
   "outputs": [
    {
     "data": {
      "text/plain": [
       "(8523, 41)"
      ]
     },
     "execution_count": 254,
     "metadata": {},
     "output_type": "execute_result"
    }
   ],
   "source": [
    "train.shape"
   ]
  },
  {
   "cell_type": "code",
   "execution_count": 255,
   "metadata": {},
   "outputs": [
    {
     "data": {
      "text/plain": [
       "(5681, 41)"
      ]
     },
     "execution_count": 255,
     "metadata": {},
     "output_type": "execute_result"
    }
   ],
   "source": [
    "test.shape"
   ]
  },
  {
   "cell_type": "code",
   "execution_count": 256,
   "metadata": {},
   "outputs": [],
   "source": [
    "test = test.drop(labels=\"Item_Outlet_Sales\",axis=1).reset_index(drop=True)"
   ]
  },
  {
   "cell_type": "code",
   "execution_count": 257,
   "metadata": {},
   "outputs": [],
   "source": [
    "train.to_csv('train_modified.csv',index=False)\n",
    "test.to_csv(\"test_modified.csv\",index=False)"
   ]
  },
  {
   "cell_type": "code",
   "execution_count": null,
   "metadata": {},
   "outputs": [],
   "source": []
  },
  {
   "cell_type": "markdown",
   "metadata": {},
   "source": [
    "## Modelling"
   ]
  },
  {
   "cell_type": "code",
   "execution_count": 268,
   "metadata": {},
   "outputs": [],
   "source": [
    "#prepering the dataset\n",
    "train = pd.read_csv(\"train_modified.csv\") \n",
    "test = pd.read_csv('test_modified.csv')"
   ]
  },
  {
   "cell_type": "code",
   "execution_count": 269,
   "metadata": {},
   "outputs": [
    {
     "data": {
      "text/html": [
       "<div>\n",
       "<style scoped>\n",
       "    .dataframe tbody tr th:only-of-type {\n",
       "        vertical-align: middle;\n",
       "    }\n",
       "\n",
       "    .dataframe tbody tr th {\n",
       "        vertical-align: top;\n",
       "    }\n",
       "\n",
       "    .dataframe thead th {\n",
       "        text-align: right;\n",
       "    }\n",
       "</style>\n",
       "<table border=\"1\" class=\"dataframe\">\n",
       "  <thead>\n",
       "    <tr style=\"text-align: right;\">\n",
       "      <th></th>\n",
       "      <th>Item_Identifier</th>\n",
       "      <th>Item_MRP</th>\n",
       "      <th>Item_Outlet_Sales</th>\n",
       "      <th>Item_Visibility</th>\n",
       "      <th>Item_Weight</th>\n",
       "      <th>Outlet_Establishment_Year</th>\n",
       "      <th>Item_Fat_Content_Low Fat</th>\n",
       "      <th>Item_Fat_Content_Regular</th>\n",
       "      <th>Item_Fat_Content_low fat</th>\n",
       "      <th>Item_Fat_Content_reg</th>\n",
       "      <th>...</th>\n",
       "      <th>Outlet_Type_Supermarket Type3</th>\n",
       "      <th>Outlet_Identifier_OUT013</th>\n",
       "      <th>Outlet_Identifier_OUT017</th>\n",
       "      <th>Outlet_Identifier_OUT018</th>\n",
       "      <th>Outlet_Identifier_OUT019</th>\n",
       "      <th>Outlet_Identifier_OUT027</th>\n",
       "      <th>Outlet_Identifier_OUT035</th>\n",
       "      <th>Outlet_Identifier_OUT045</th>\n",
       "      <th>Outlet_Identifier_OUT046</th>\n",
       "      <th>Outlet_Identifier_OUT049</th>\n",
       "    </tr>\n",
       "  </thead>\n",
       "  <tbody>\n",
       "    <tr>\n",
       "      <th>0</th>\n",
       "      <td>FDA15</td>\n",
       "      <td>249.8092</td>\n",
       "      <td>3735.1380</td>\n",
       "      <td>0.016047</td>\n",
       "      <td>9.30</td>\n",
       "      <td>1999</td>\n",
       "      <td>1</td>\n",
       "      <td>0</td>\n",
       "      <td>0</td>\n",
       "      <td>0</td>\n",
       "      <td>...</td>\n",
       "      <td>0</td>\n",
       "      <td>0</td>\n",
       "      <td>0</td>\n",
       "      <td>0</td>\n",
       "      <td>0</td>\n",
       "      <td>0</td>\n",
       "      <td>0</td>\n",
       "      <td>0</td>\n",
       "      <td>0</td>\n",
       "      <td>1</td>\n",
       "    </tr>\n",
       "    <tr>\n",
       "      <th>1</th>\n",
       "      <td>DRC01</td>\n",
       "      <td>48.2692</td>\n",
       "      <td>443.4228</td>\n",
       "      <td>0.019278</td>\n",
       "      <td>5.92</td>\n",
       "      <td>2009</td>\n",
       "      <td>0</td>\n",
       "      <td>1</td>\n",
       "      <td>0</td>\n",
       "      <td>0</td>\n",
       "      <td>...</td>\n",
       "      <td>0</td>\n",
       "      <td>0</td>\n",
       "      <td>0</td>\n",
       "      <td>1</td>\n",
       "      <td>0</td>\n",
       "      <td>0</td>\n",
       "      <td>0</td>\n",
       "      <td>0</td>\n",
       "      <td>0</td>\n",
       "      <td>0</td>\n",
       "    </tr>\n",
       "    <tr>\n",
       "      <th>2</th>\n",
       "      <td>FDN15</td>\n",
       "      <td>141.6180</td>\n",
       "      <td>2097.2700</td>\n",
       "      <td>0.016760</td>\n",
       "      <td>17.50</td>\n",
       "      <td>1999</td>\n",
       "      <td>1</td>\n",
       "      <td>0</td>\n",
       "      <td>0</td>\n",
       "      <td>0</td>\n",
       "      <td>...</td>\n",
       "      <td>0</td>\n",
       "      <td>0</td>\n",
       "      <td>0</td>\n",
       "      <td>0</td>\n",
       "      <td>0</td>\n",
       "      <td>0</td>\n",
       "      <td>0</td>\n",
       "      <td>0</td>\n",
       "      <td>0</td>\n",
       "      <td>1</td>\n",
       "    </tr>\n",
       "    <tr>\n",
       "      <th>3</th>\n",
       "      <td>FDX07</td>\n",
       "      <td>182.0950</td>\n",
       "      <td>732.3800</td>\n",
       "      <td>0.000000</td>\n",
       "      <td>19.20</td>\n",
       "      <td>1998</td>\n",
       "      <td>0</td>\n",
       "      <td>1</td>\n",
       "      <td>0</td>\n",
       "      <td>0</td>\n",
       "      <td>...</td>\n",
       "      <td>0</td>\n",
       "      <td>0</td>\n",
       "      <td>0</td>\n",
       "      <td>0</td>\n",
       "      <td>0</td>\n",
       "      <td>0</td>\n",
       "      <td>0</td>\n",
       "      <td>0</td>\n",
       "      <td>0</td>\n",
       "      <td>0</td>\n",
       "    </tr>\n",
       "    <tr>\n",
       "      <th>4</th>\n",
       "      <td>NCD19</td>\n",
       "      <td>53.8614</td>\n",
       "      <td>994.7052</td>\n",
       "      <td>0.000000</td>\n",
       "      <td>8.93</td>\n",
       "      <td>1987</td>\n",
       "      <td>1</td>\n",
       "      <td>0</td>\n",
       "      <td>0</td>\n",
       "      <td>0</td>\n",
       "      <td>...</td>\n",
       "      <td>0</td>\n",
       "      <td>1</td>\n",
       "      <td>0</td>\n",
       "      <td>0</td>\n",
       "      <td>0</td>\n",
       "      <td>0</td>\n",
       "      <td>0</td>\n",
       "      <td>0</td>\n",
       "      <td>0</td>\n",
       "      <td>0</td>\n",
       "    </tr>\n",
       "  </tbody>\n",
       "</table>\n",
       "<p>5 rows × 41 columns</p>\n",
       "</div>"
      ],
      "text/plain": [
       "  Item_Identifier  Item_MRP  Item_Outlet_Sales  Item_Visibility  Item_Weight  \\\n",
       "0           FDA15  249.8092          3735.1380         0.016047         9.30   \n",
       "1           DRC01   48.2692           443.4228         0.019278         5.92   \n",
       "2           FDN15  141.6180          2097.2700         0.016760        17.50   \n",
       "3           FDX07  182.0950           732.3800         0.000000        19.20   \n",
       "4           NCD19   53.8614           994.7052         0.000000         8.93   \n",
       "\n",
       "   Outlet_Establishment_Year  Item_Fat_Content_Low Fat  \\\n",
       "0                       1999                         1   \n",
       "1                       2009                         0   \n",
       "2                       1999                         1   \n",
       "3                       1998                         0   \n",
       "4                       1987                         1   \n",
       "\n",
       "   Item_Fat_Content_Regular  Item_Fat_Content_low fat  Item_Fat_Content_reg  \\\n",
       "0                         0                         0                     0   \n",
       "1                         1                         0                     0   \n",
       "2                         0                         0                     0   \n",
       "3                         1                         0                     0   \n",
       "4                         0                         0                     0   \n",
       "\n",
       "             ...             Outlet_Type_Supermarket Type3  \\\n",
       "0            ...                                         0   \n",
       "1            ...                                         0   \n",
       "2            ...                                         0   \n",
       "3            ...                                         0   \n",
       "4            ...                                         0   \n",
       "\n",
       "   Outlet_Identifier_OUT013  Outlet_Identifier_OUT017  \\\n",
       "0                         0                         0   \n",
       "1                         0                         0   \n",
       "2                         0                         0   \n",
       "3                         0                         0   \n",
       "4                         1                         0   \n",
       "\n",
       "   Outlet_Identifier_OUT018  Outlet_Identifier_OUT019  \\\n",
       "0                         0                         0   \n",
       "1                         1                         0   \n",
       "2                         0                         0   \n",
       "3                         0                         0   \n",
       "4                         0                         0   \n",
       "\n",
       "   Outlet_Identifier_OUT027  Outlet_Identifier_OUT035  \\\n",
       "0                         0                         0   \n",
       "1                         0                         0   \n",
       "2                         0                         0   \n",
       "3                         0                         0   \n",
       "4                         0                         0   \n",
       "\n",
       "   Outlet_Identifier_OUT045  Outlet_Identifier_OUT046  \\\n",
       "0                         0                         0   \n",
       "1                         0                         0   \n",
       "2                         0                         0   \n",
       "3                         0                         0   \n",
       "4                         0                         0   \n",
       "\n",
       "   Outlet_Identifier_OUT049  \n",
       "0                         1  \n",
       "1                         0  \n",
       "2                         1  \n",
       "3                         0  \n",
       "4                         0  \n",
       "\n",
       "[5 rows x 41 columns]"
      ]
     },
     "execution_count": 269,
     "metadata": {},
     "output_type": "execute_result"
    }
   ],
   "source": [
    "#Display firs five row of dataset\n",
    "train.head() "
   ]
  },
  {
   "cell_type": "code",
   "execution_count": 260,
   "metadata": {},
   "outputs": [],
   "source": [
    "ID_cols = ['Item_Identifier']\n",
    "target = ['Item_Outlet_Sales']\n",
    "var  = ID_cols+target"
   ]
  },
  {
   "cell_type": "code",
   "execution_count": 261,
   "metadata": {},
   "outputs": [],
   "source": [
    "predictors = [x for x in train.columns if x not in var]"
   ]
  },
  {
   "cell_type": "markdown",
   "metadata": {},
   "source": [
    "## Linear Regrssion"
   ]
  },
  {
   "cell_type": "code",
   "execution_count": 262,
   "metadata": {},
   "outputs": [],
   "source": [
    "from sklearn.linear_model import LinearRegression\n",
    "from sklearn.model_selection import cross_val_score\n",
    "from sklearn import metrics"
   ]
  },
  {
   "cell_type": "code",
   "execution_count": 263,
   "metadata": {},
   "outputs": [
    {
     "name": "stdout",
     "output_type": "stream",
     "text": [
      "[CV]  ................................................................\n",
      "[CV] ....................... , score=0.5696065086751032, total=   0.0s\n",
      "[CV]  ................................................................\n",
      "[CV] ....................... , score=0.5518457008991198, total=   0.0s\n",
      "[CV]  ................................................................\n",
      "[CV] ....................... , score=0.5460377442962757, total=   0.0s\n",
      "[CV]  ................................................................\n",
      "[CV] ....................... , score=0.5635434007338802, total=   0.0s\n",
      "[CV]  ................................................................\n",
      "[CV] ....................... , score=0.5631702255186583, total=   0.0s\n"
     ]
    },
    {
     "name": "stderr",
     "output_type": "stream",
     "text": [
      "[Parallel(n_jobs=1)]: Done   1 out of   1 | elapsed:    0.0s remaining:    0.0s\n",
      "[Parallel(n_jobs=1)]: Done   2 out of   2 | elapsed:    0.0s remaining:    0.0s\n",
      "[Parallel(n_jobs=1)]: Done   3 out of   3 | elapsed:    0.0s remaining:    0.0s\n",
      "[Parallel(n_jobs=1)]: Done   4 out of   4 | elapsed:    0.0s remaining:    0.0s\n",
      "[Parallel(n_jobs=1)]: Done   5 out of   5 | elapsed:    0.0s finished\n"
     ]
    }
   ],
   "source": [
    "model = LinearRegression()\n",
    "cross_score = cross_val_score(model,train[predictors],train[target].values.ravel(),verbose=5,cv=5)"
   ]
  },
  {
   "cell_type": "code",
   "execution_count": 270,
   "metadata": {},
   "outputs": [],
   "source": [
    "model.fit(train[predictors],train['Item_Outlet_Sales'].values.ravel()) #Fitting the model\n",
    "y_test = model.predict(train[predictors])"
   ]
  },
  {
   "cell_type": "code",
   "execution_count": 271,
   "metadata": {},
   "outputs": [],
   "source": [
    "rmse = metrics.mean_squared_error(train['Item_Outlet_Sales'],y_test) #calculating Mean sqaure error "
   ]
  },
  {
   "cell_type": "code",
   "execution_count": 272,
   "metadata": {},
   "outputs": [
    {
     "name": "stdout",
     "output_type": "stream",
     "text": [
      "Model Report\n",
      "RMSE : 1126.95\n",
      "CV Score : Mean- 0.56| Std. - 0.01| Min - 0.55| Max - 0.57\n"
     ]
    },
    {
     "data": {
      "text/plain": [
       "<matplotlib.axes._subplots.AxesSubplot at 0x7ff4731b89e8>"
      ]
     },
     "execution_count": 272,
     "metadata": {},
     "output_type": "execute_result"
    },
    {
     "data": {
      "image/png": "[encoded data removed]",
      "text/plain": [
       "<Figure size 864x720 with 1 Axes>"
      ]
     },
     "metadata": {},
     "output_type": "display_data"
    }
   ],
   "source": [
    "#plotting cofficents\n",
    "plt.figure(figsize=(12,10))\n",
    "print('Model Report')\n",
    "print(\"RMSE : {:.2f}\".format(np.sqrt(rmse)))\n",
    "print('CV Score : Mean- {0:.2f}| Std. - {1:.2f}| Min - {2:.2f}| Max - {3:.2f}'.format(np.mean(cross_score),np.std(cross_score),np.min(cross_score),np.max(cross_score)))\n",
    "df = pd.Series(model.coef_,index=predictors).sort_values()\n",
    "df.plot(kind='bar')"
   ]
  },
  {
   "cell_type": "code",
   "execution_count": 274,
   "metadata": {},
   "outputs": [],
   "source": [
    "op = model.predict(test[predictors])\n",
    "test['Target'] = op\n",
    "test[['Target']].to_csv('Linear',index_label=False)"
   ]
  },
  {
   "cell_type": "markdown",
   "metadata": {},
   "source": [
    "# Ridge Regression"
   ]
  },
  {
   "cell_type": "code",
   "execution_count": 275,
   "metadata": {},
   "outputs": [],
   "source": [
    "from sklearn.linear_model import Ridge"
   ]
  },
  {
   "cell_type": "code",
   "execution_count": 276,
   "metadata": {},
   "outputs": [],
   "source": [
    "ridge = Ridge(alpha=0.05)"
   ]
  },
  {
   "cell_type": "code",
   "execution_count": 277,
   "metadata": {},
   "outputs": [
    {
     "data": {
      "text/plain": [
       "Ridge(alpha=0.05, copy_X=True, fit_intercept=True, max_iter=None,\n",
       "   normalize=False, random_state=None, solver='auto', tol=0.001)"
      ]
     },
     "execution_count": 277,
     "metadata": {},
     "output_type": "execute_result"
    }
   ],
   "source": [
    "ridge.fit(train[predictors],train['Item_Outlet_Sales'].values.ravel())"
   ]
  },
  {
   "cell_type": "code",
   "execution_count": 278,
   "metadata": {},
   "outputs": [],
   "source": [
    "y_pred = ridge.predict(train[predictors])"
   ]
  },
  {
   "cell_type": "code",
   "execution_count": 279,
   "metadata": {},
   "outputs": [],
   "source": [
    "rmse = metrics.mean_squared_error(train['Item_Outlet_Sales'].values.ravel(),y_pred)"
   ]
  },
  {
   "cell_type": "code",
   "execution_count": 280,
   "metadata": {},
   "outputs": [
    {
     "name": "stdout",
     "output_type": "stream",
     "text": [
      "Model Report\n",
      "RMSE : 1126.95\n",
      "CV Score : Mean- 0.56| Std. - 0.01| Min - 0.55| Max - 0.57\n"
     ]
    },
    {
     "data": {
      "text/plain": [
       "<matplotlib.axes._subplots.AxesSubplot at 0x7ff473128ef0>"
      ]
     },
     "execution_count": 280,
     "metadata": {},
     "output_type": "execute_result"
    },
    {
     "data": {
      "image/png": "[encoded data removed]",
      "text/plain": [
       "<Figure size 864x720 with 1 Axes>"
      ]
     },
     "metadata": {},
     "output_type": "display_data"
    }
   ],
   "source": [
    "plt.figure(figsize=(12,10))\n",
    "print('Model Report')\n",
    "print(\"RMSE : {:.2f}\".format(np.sqrt(rmse)))\n",
    "print('CV Score : Mean- {0:.2f}| Std. - {1:.2f}| Min - {2:.2f}| Max - {3:.2f}'.format(np.mean(cross_score),np.std(cross_score),np.min(cross_score),np.max(cross_score)))\n",
    "df = pd.Series(ridge.coef_,index=predictors).sort_values()\n",
    "df.plot(kind='bar')"
   ]
  },
  {
   "cell_type": "code",
   "execution_count": 281,
   "metadata": {},
   "outputs": [],
   "source": [
    "op = ridge.predict(test[predictors])"
   ]
  },
  {
   "cell_type": "code",
   "execution_count": 282,
   "metadata": {},
   "outputs": [],
   "source": [
    "test['Target'] = op"
   ]
  },
  {
   "cell_type": "code",
   "execution_count": 283,
   "metadata": {},
   "outputs": [],
   "source": [
    "test['Target'].to_csv('ridge',index_label=False)"
   ]
  },
  {
   "cell_type": "code",
   "execution_count": null,
   "metadata": {},
   "outputs": [],
   "source": []
  }
 ],
 "metadata": {
  "kernelspec": {
   "display_name": "Python 3",
   "language": "python",
   "name": "python3"
  },
  "language_info": {
   "codemirror_mode": {
    "name": "ipython",
    "version": 3
   },
   "file_extension": ".py",
   "mimetype": "text/x-python",
   "name": "python",
   "nbconvert_exporter": "python",
   "pygments_lexer": "ipython3",
   "version": "3.6.4"
  }
 },
 "nbformat": 4,
 "nbformat_minor": 2
}
